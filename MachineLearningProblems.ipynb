{
 "cells": [
  {
   "metadata": {},
   "cell_type": "markdown",
   "source": [
    "# Problem 1\n",
    " Ecologists tested the grazing pressure of green crabs on clams. They constructed cages and planted 300 clams in each cage. Two days later, they counted the number of remaining clams and recorded the data in the data below.\n",
    "\n",
    "Number of Crabs, Number of Clams Remaining\n",
    "2,\t137\n",
    "4,\t70\n",
    "2,\t184\n",
    "5,\t0\n",
    "4,\t35\n",
    "0,\t297\n",
    "3,\t122\n",
    "5,\t1\n",
    "1,\t253\n",
    "3,\t150"
   ],
   "id": "78acdd8665a02c51"
  },
  {
   "metadata": {
    "ExecuteTime": {
     "end_time": "2025-10-17T09:06:53.890536Z",
     "start_time": "2025-10-17T09:06:53.885999Z"
    }
   },
   "cell_type": "code",
   "source": [
    "from cProfile import label\n",
    "from statistics import linear_regression\n",
    "\n",
    "import numpy as np\n",
    "from adodbapi.setup import DESCRIPTION\n",
    "from pandas.core.common import random_state\n",
    "from requests.packages import target\n",
    "\n",
    "from KNN_algorithm import training_accuracy, n_neighbors\n",
    "\n",
    "data = np.array([\n",
    "    [2, 137],\n",
    "    [4, 70],\n",
    "    [2, 184],\n",
    "    [5, 0],\n",
    "    [4, 35],\n",
    "    [0, 297],\n",
    "    [3, 122],\n",
    "    [5, 1],\n",
    "    [1, 253],\n",
    "    [3, 150]\n",
    "])"
   ],
   "id": "351ca8d943af7958",
   "outputs": [],
   "execution_count": 27
  },
  {
   "cell_type": "code",
   "id": "initial_id",
   "metadata": {
    "collapsed": true,
    "ExecuteTime": {
     "end_time": "2025-10-17T09:06:53.911240Z",
     "start_time": "2025-10-17T09:06:53.904460Z"
    }
   },
   "source": [
    "from sklearn.linear_model import LinearRegression\n",
    "from sklearn.model_selection import train_test_split\n",
    "X = data[:, 0].reshape(-1,1)\n",
    "y = data[:, 1]\n",
    "print(X)\n",
    "print(y)"
   ],
   "outputs": [
    {
     "name": "stdout",
     "output_type": "stream",
     "text": [
      "[[2]\n",
      " [4]\n",
      " [2]\n",
      " [5]\n",
      " [4]\n",
      " [0]\n",
      " [3]\n",
      " [5]\n",
      " [1]\n",
      " [3]]\n",
      "[137  70 184   0  35 297 122   1 253 150]\n"
     ]
    }
   ],
   "execution_count": 28
  },
  {
   "metadata": {
    "ExecuteTime": {
     "end_time": "2025-10-17T09:06:53.947006Z",
     "start_time": "2025-10-17T09:06:53.927322Z"
    }
   },
   "cell_type": "code",
   "source": [
    "X_train, X_test, y_train, y_test = train_test_split(X, y, random_state=30)\n",
    "lr = LinearRegression().fit(X_train, y_train)\n",
    "print(\"Model accuracy: {}\".format(lr.score(X, y)))"
   ],
   "id": "c502e93f1b6c0f9e",
   "outputs": [
    {
     "name": "stdout",
     "output_type": "stream",
     "text": [
      "Model accuracy: 0.9575496121104143\n"
     ]
    }
   ],
   "execution_count": 29
  },
  {
   "metadata": {},
   "cell_type": "markdown",
   "source": [
    "# Problem 2\n",
    "Now, let’s step up our game by working with a dataset that has multiple predictors. Imagine you’re in charge of a marketing team, and you need to predict sales based on advertising spend across different media channels — TV, radio, and newspaper.\n",
    "\n",
    "This type of problem is common in marketing analytics and can help you understand how different factors collectively influence an outcome.\n",
    "| TV Spend ($) | Radio Spend ($) | Newspaper Spend ($) | Sales ($) |\n",
    "|--------------|-----------------|---------------------|-----------|\n",
    "| 230.1        | 37.8            | 69.2                | 22.1      |\n",
    "| 44.5         | 39.3            | 45.1                | 10.4      |\n",
    "| 17.2         | 45.9            | 69.3                | 9.3       |\n",
    "| 151.5        | 41.3            | 58.5                | 18.5      |\n",
    "| 180.8        | 10.8            | 58.4                | 12.9      |  "
   ],
   "id": "bc8daa24b1a2163a"
  },
  {
   "metadata": {
    "ExecuteTime": {
     "end_time": "2025-10-17T09:06:53.978475Z",
     "start_time": "2025-10-17T09:06:53.971314Z"
    }
   },
   "cell_type": "code",
   "source": [
    "data = [\n",
    "    [230.1, 37.8, 69.2, 22.1],\n",
    "    [44.5, 39.3, 45.1, 10.4],\n",
    "    [17.2, 45.9, 69.3, 9.3],\n",
    "    [151.5, 41.3, 58.5, 18.5],\n",
    "    [180.8, 10.8, 58.4, 12.9]\n",
    "]\n",
    "data = np.array(data)\n",
    "X = data[:, :3]\n",
    "y = data[:, 3]\n",
    "print (X)\n",
    "print(y)"
   ],
   "id": "f0bd227109c82788",
   "outputs": [
    {
     "name": "stdout",
     "output_type": "stream",
     "text": [
      "[[230.1  37.8  69.2]\n",
      " [ 44.5  39.3  45.1]\n",
      " [ 17.2  45.9  69.3]\n",
      " [151.5  41.3  58.5]\n",
      " [180.8  10.8  58.4]]\n",
      "[22.1 10.4  9.3 18.5 12.9]\n"
     ]
    }
   ],
   "execution_count": 30
  },
  {
   "metadata": {
    "ExecuteTime": {
     "end_time": "2025-10-17T09:07:17.388848Z",
     "start_time": "2025-10-17T09:07:17.376083Z"
    }
   },
   "cell_type": "code",
   "source": [
    "X_train, X_test, y_train, y_test = train_test_split(X, y, random_state=0)\n",
    "lr = LinearRegression().fit(X_train, y_train)\n",
    "print(\"the accuracy of the linear regression model is: {}\".format(lr.score(X, y)))"
   ],
   "id": "c60f2acca063057",
   "outputs": [
    {
     "name": "stdout",
     "output_type": "stream",
     "text": [
      "the accuracy of the linear regression model is: 0.9605547250799181\n"
     ]
    }
   ],
   "execution_count": 32
  },
  {
   "metadata": {},
   "cell_type": "markdown",
   "source": "### classifying  the iris dataset.\n",
   "id": "5dc3d037c0086a04"
  },
  {
   "metadata": {
    "ExecuteTime": {
     "end_time": "2025-10-17T16:53:40.140738Z",
     "start_time": "2025-10-17T16:53:40.128901Z"
    }
   },
   "cell_type": "code",
   "source": [
    "from sklearn.datasets import load_iris\n",
    "iris_dataset = load_iris()\n",
    "print(iris_dataset.get(\"target\"))"
   ],
   "id": "5bd0375c498037c8",
   "outputs": [
    {
     "name": "stdout",
     "output_type": "stream",
     "text": [
      "[0 0 0 0 0 0 0 0 0 0 0 0 0 0 0 0 0 0 0 0 0 0 0 0 0 0 0 0 0 0 0 0 0 0 0 0 0\n",
      " 0 0 0 0 0 0 0 0 0 0 0 0 0 1 1 1 1 1 1 1 1 1 1 1 1 1 1 1 1 1 1 1 1 1 1 1 1\n",
      " 1 1 1 1 1 1 1 1 1 1 1 1 1 1 1 1 1 1 1 1 1 1 1 1 1 1 2 2 2 2 2 2 2 2 2 2 2\n",
      " 2 2 2 2 2 2 2 2 2 2 2 2 2 2 2 2 2 2 2 2 2 2 2 2 2 2 2 2 2 2 2 2 2 2 2 2 2\n",
      " 2 2]\n"
     ]
    }
   ],
   "execution_count": 45
  },
  {
   "metadata": {
    "ExecuteTime": {
     "end_time": "2025-10-17T16:55:05.468613Z",
     "start_time": "2025-10-17T16:55:05.462253Z"
    }
   },
   "cell_type": "code",
   "source": [
    "X = iris_dataset.get(\"data\")\n",
    "y = iris_dataset.get('target')\n",
    "print(y)"
   ],
   "id": "dfe25bbac62f7345",
   "outputs": [
    {
     "name": "stdout",
     "output_type": "stream",
     "text": [
      "[0 0 0 0 0 0 0 0 0 0 0 0 0 0 0 0 0 0 0 0 0 0 0 0 0 0 0 0 0 0 0 0 0 0 0 0 0\n",
      " 0 0 0 0 0 0 0 0 0 0 0 0 0 1 1 1 1 1 1 1 1 1 1 1 1 1 1 1 1 1 1 1 1 1 1 1 1\n",
      " 1 1 1 1 1 1 1 1 1 1 1 1 1 1 1 1 1 1 1 1 1 1 1 1 1 1 2 2 2 2 2 2 2 2 2 2 2\n",
      " 2 2 2 2 2 2 2 2 2 2 2 2 2 2 2 2 2 2 2 2 2 2 2 2 2 2 2 2 2 2 2 2 2 2 2 2 2\n",
      " 2 2]\n"
     ]
    }
   ],
   "execution_count": 52
  },
  {
   "metadata": {
    "ExecuteTime": {
     "end_time": "2025-10-17T17:23:02.785716Z",
     "start_time": "2025-10-17T17:23:02.775230Z"
    }
   },
   "cell_type": "code",
   "source": "X_train, X_test, y_train, y_test = train_test_split(X, y, random_state=30)",
   "id": "dc4501f29afe0cb7",
   "outputs": [],
   "execution_count": 84
  },
  {
   "metadata": {
    "ExecuteTime": {
     "end_time": "2025-10-17T17:23:02.811713Z",
     "start_time": "2025-10-17T17:23:02.799998Z"
    }
   },
   "cell_type": "code",
   "source": [
    "from sklearn.neighbors import KNeighborsClassifier\n",
    "knc = KNeighborsClassifier(n_neighbors=110).fit(X_train, y_train)"
   ],
   "id": "526bd1323821b2e5",
   "outputs": [],
   "execution_count": 85
  },
  {
   "metadata": {
    "ExecuteTime": {
     "end_time": "2025-10-17T17:23:02.837544Z",
     "start_time": "2025-10-17T17:23:02.820079Z"
    }
   },
   "cell_type": "code",
   "source": "print(\"Model accuracy score: {}\".format(knc.score(X_test, y_test)))",
   "id": "bc2d8856ef4db6b8",
   "outputs": [
    {
     "name": "stdout",
     "output_type": "stream",
     "text": [
      "Model accuracy score: 0.2894736842105263\n"
     ]
    }
   ],
   "execution_count": 86
  },
  {
   "metadata": {
    "ExecuteTime": {
     "end_time": "2025-10-17T17:55:28.866399Z",
     "start_time": "2025-10-17T17:55:28.722482Z"
    }
   },
   "cell_type": "code",
   "source": [
    "import matplotlib.pyplot as plt\n",
    "testing_scores = []\n",
    "training_scores = []\n",
    "n_neighbors = range(1, 110, 10)\n",
    "for neighbours in n_neighbors:\n",
    "    knc = KNeighborsClassifier(n_neighbors=neighbours).fit(X_train, y_train)\n",
    "    testing_scores.append(knc.score(X_test, y_test))\n",
    "    training_scores.append(knc.score(X_train, y_train))\n",
    "\n",
    "plt.plot(n_neighbors, testing_scores, label='model accuracy')\n",
    "plt.plot(n_neighbors, training_scores, label='model accuracy')\n",
    "plt.ylabel(\"model accuracy\")\n",
    "plt.xlabel(\"number of neighbors\")\n",
    "plt.legend()"
   ],
   "id": "5a6280f31778b96c",
   "outputs": [
    {
     "data": {
      "text/plain": [
       "<matplotlib.legend.Legend at 0x229d66778f0>"
      ]
     },
     "execution_count": 90,
     "metadata": {},
     "output_type": "execute_result"
    },
    {
     "data": {
      "text/plain": [
       "<Figure size 640x480 with 1 Axes>"
      ],
      "image/png": "[encoded data removed]"
     },
     "metadata": {},
     "output_type": "display_data",
     "jetTransient": {
      "display_id": null
     }
    }
   ],
   "execution_count": 90
  },
  {
   "metadata": {
    "ExecuteTime": {
     "end_time": "2025-10-17T17:23:03.534355Z",
     "start_time": "2025-10-17T17:23:03.520312Z"
    }
   },
   "cell_type": "code",
   "source": "",
   "id": "c05a1fd589be4874",
   "outputs": [],
   "execution_count": null
  }
 ],
 "metadata": {
  "kernelspec": {
   "display_name": "Python 3",
   "language": "python",
   "name": "python3"
  },
  "language_info": {
   "codemirror_mode": {
    "name": "ipython",
    "version": 2
   },
   "file_extension": ".py",
   "mimetype": "text/x-python",
   "name": "python",
   "nbconvert_exporter": "python",
   "pygments_lexer": "ipython2",
   "version": "2.7.6"
  }
 },
 "nbformat": 4,
 "nbformat_minor": 5
}
