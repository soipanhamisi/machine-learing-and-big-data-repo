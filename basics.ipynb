{
 "cells": [
  {
   "cell_type": "code",
   "id": "initial_id",
   "metadata": {
    "collapsed": true,
    "ExecuteTime": {
     "end_time": "2025-09-21T12:17:07.151421Z",
     "start_time": "2025-09-21T12:17:07.015271Z"
    }
   },
   "source": [
    "import numpy as np\n",
    "import scipy\n",
    "\n",
    "print(np.__version__)"
   ],
   "outputs": [
    {
     "name": "stdout",
     "output_type": "stream",
     "text": [
      "2.3.3\n"
     ]
    }
   ],
   "execution_count": 1
  },
  {
   "metadata": {
    "ExecuteTime": {
     "end_time": "2025-09-21T12:20:57.625866Z",
     "start_time": "2025-09-21T12:20:57.620551Z"
    }
   },
   "cell_type": "code",
   "source": [
    "x = np.array([[1,2,3],[1,4,5]])\n",
    "print(\"x:\\n{}\".format(x))"
   ],
   "id": "fab0d34c21fd84d",
   "outputs": [
    {
     "name": "stdout",
     "output_type": "stream",
     "text": [
      "x:\n",
      "[[1 2 3]\n",
      " [1 4 5]]\n"
     ]
    }
   ],
   "execution_count": 5
  },
  {
   "metadata": {
    "ExecuteTime": {
     "end_time": "2025-09-21T14:10:09.697147Z",
     "start_time": "2025-09-21T14:10:09.554985Z"
    }
   },
   "cell_type": "code",
   "source": [
    "from scipy import sparse\n",
    "eye =  np.eye(4)\n",
    "print(\"eye:\\n {}\".format(eye))"
   ],
   "id": "1da30a95fb77ade",
   "outputs": [
    {
     "name": "stdout",
     "output_type": "stream",
     "text": [
      "eye:\n",
      " [[1. 0. 0. 0.]\n",
      " [0. 1. 0. 0.]\n",
      " [0. 0. 1. 0.]\n",
      " [0. 0. 0. 1.]]\n"
     ]
    }
   ],
   "execution_count": 8
  },
  {
   "metadata": {
    "ExecuteTime": {
     "end_time": "2025-09-21T14:12:33.196602Z",
     "start_time": "2025-09-21T14:12:33.187378Z"
    }
   },
   "cell_type": "code",
   "source": [
    "sparse_matrix = sparse.csr_matrix(eye)\n",
    "print(\"sparse matrix:\\n{}\".format(sparse_matrix))"
   ],
   "id": "d7d1385b744766e6",
   "outputs": [
    {
     "name": "stdout",
     "output_type": "stream",
     "text": [
      "sparse matrix:\n",
      "<Compressed Sparse Row sparse matrix of dtype 'float64'\n",
      "\twith 4 stored elements and shape (4, 4)>\n",
      "  Coords\tValues\n",
      "  (0, 0)\t1.0\n",
      "  (1, 1)\t1.0\n",
      "  (2, 2)\t1.0\n",
      "  (3, 3)\t1.0\n"
     ]
    }
   ],
   "execution_count": 10
  },
  {
   "metadata": {
    "ExecuteTime": {
     "end_time": "2025-09-21T15:03:37.513917Z",
     "start_time": "2025-09-21T15:03:37.503996Z"
    }
   },
   "cell_type": "code",
   "source": [
    "## creating a sparse matrix using the COO method\n",
    "data = np.ones(4)\n",
    "row_indices = np.arange(4)\n",
    "column_indices = np.arange(4)\n",
    "eye_coo = sparse.coo_matrix((data, (row_indices, column_indices)))\n",
    "print(\"COO representation: \\n {}\".format(eye_coo))"
   ],
   "id": "2d4b040f9daf4cf",
   "outputs": [
    {
     "name": "stdout",
     "output_type": "stream",
     "text": [
      "COO representation: \n",
      " <COOrdinate sparse matrix of dtype 'float64'\n",
      "\twith 4 stored elements and shape (4, 4)>\n",
      "  Coords\tValues\n",
      "  (0, 0)\t1.0\n",
      "  (1, 1)\t1.0\n",
      "  (2, 2)\t1.0\n",
      "  (3, 3)\t1.0\n"
     ]
    }
   ],
   "execution_count": 16
  },
  {
   "metadata": {
    "ExecuteTime": {
     "end_time": "2025-09-22T05:34:11.221049Z",
     "start_time": "2025-09-22T05:34:10.857087Z"
    }
   },
   "cell_type": "code",
   "source": [
    "import matplotlib as plt\n",
    "print(plt.__version__)"
   ],
   "id": "57307e088a9bf28f",
   "outputs": [
    {
     "name": "stdout",
     "output_type": "stream",
     "text": [
      "3.10.6\n"
     ]
    }
   ],
   "execution_count": 1
  },
  {
   "metadata": {},
   "cell_type": "markdown",
   "source": "#### working with arrays",
   "id": "455681bac6b108c7"
  },
  {
   "metadata": {
    "ExecuteTime": {
     "end_time": "2025-09-23T04:47:35.446980Z",
     "start_time": "2025-09-23T04:47:35.278969Z"
    }
   },
   "cell_type": "code",
   "source": "import numpy as np",
   "id": "cfcdfde0a78c4b64",
   "outputs": [],
   "execution_count": 2
  },
  {
   "metadata": {
    "ExecuteTime": {
     "end_time": "2025-09-23T04:49:44.497572Z",
     "start_time": "2025-09-23T04:49:44.492015Z"
    }
   },
   "cell_type": "code",
   "source": [
    "x = np.array([1,2,3,4,5,6])\n",
    "print(\"x:\\n{}\".format(x))\n",
    "print(\"shape of array: {}\".format(x.shape))"
   ],
   "id": "b03ac6572b5020b1",
   "outputs": [
    {
     "name": "stdout",
     "output_type": "stream",
     "text": [
      "x:\n",
      "[1 2 3 4 5 6]\n",
      "shape of array: (6,)\n"
     ]
    }
   ],
   "execution_count": 9
  },
  {
   "metadata": {
    "ExecuteTime": {
     "end_time": "2025-09-23T04:50:02.126775Z",
     "start_time": "2025-09-23T04:50:02.122318Z"
    }
   },
   "cell_type": "code",
   "source": [
    "x = x.reshape(1,6)\n",
    "print(\"shape of array: {}\".format(x.shape))"
   ],
   "id": "3bc8f7d7bba39463",
   "outputs": [
    {
     "name": "stdout",
     "output_type": "stream",
     "text": [
      "shape of array: (1, 6)\n"
     ]
    }
   ],
   "execution_count": 10
  },
  {
   "metadata": {
    "ExecuteTime": {
     "end_time": "2025-09-23T04:48:23.980113Z",
     "start_time": "2025-09-23T04:48:23.974310Z"
    }
   },
   "cell_type": "code",
   "source": "print(\"x:\\n{}\".format(x))",
   "id": "8a077925968dab40",
   "outputs": [
    {
     "name": "stdout",
     "output_type": "stream",
     "text": [
      "x:\n",
      "[[1 2 3 4 5 6]]\n"
     ]
    }
   ],
   "execution_count": 8
  },
  {
   "metadata": {
    "ExecuteTime": {
     "end_time": "2025-09-23T04:51:53.126942Z",
     "start_time": "2025-09-23T04:51:53.122937Z"
    }
   },
   "cell_type": "code",
   "source": [
    "x_1 = x.reshape(6, 1)\n",
    "print(\"shape of array: {}\".format(x_1.shape))\n",
    "print(\"array: {}\".format(x_1))"
   ],
   "id": "8cf69e791f502a67",
   "outputs": [
    {
     "name": "stdout",
     "output_type": "stream",
     "text": [
      "shape of array: (6, 1)\n",
      "array: [[1]\n",
      " [2]\n",
      " [3]\n",
      " [4]\n",
      " [5]\n",
      " [6]]\n"
     ]
    }
   ],
   "execution_count": 12
  },
  {
   "metadata": {
    "ExecuteTime": {
     "end_time": "2025-09-25T04:27:09.038186Z",
     "start_time": "2025-09-25T04:27:08.485979Z"
    }
   },
   "cell_type": "code",
   "source": [
    "import numpy as np\n",
    "import matplotlib.pyplot as plt\n",
    "samples1=np.random.normal(50, 10, 1000)\n",
    "samples1"
   ],
   "id": "56213f909f910b5",
   "outputs": [
    {
     "data": {
      "text/plain": [
       "array([46.0269975 , 22.84361023, 48.92086999, 51.04964183, 46.63881454,\n",
       "       42.90337341, 48.61068656, 40.96725593, 70.94539473, 59.22709401,\n",
       "       49.99134731, 40.17965966, 43.95745446, 54.39144791, 49.27903669,\n",
       "       48.83180259, 34.93502397, 43.45604802, 49.68086317, 45.44042015,\n",
       "       43.91079586, 38.23100212, 40.52553571, 51.81572537, 68.34213992,\n",
       "       39.75921442, 47.79915935, 53.15481651, 56.32637452, 48.04273898,\n",
       "       42.33060124, 45.27464943, 66.82290589, 46.15243592, 53.20811562,\n",
       "       73.93271613, 51.08967484, 28.69861714, 58.50175095, 28.39715211,\n",
       "       33.11666346, 43.37821946, 55.95994651, 68.55984722, 36.67958615,\n",
       "       33.07285028, 39.93122906, 58.75891839, 46.1059864 , 43.08654586,\n",
       "       47.07157864, 45.70065533, 56.67690834, 46.33880582, 55.35777744,\n",
       "       31.95285613, 40.63701923, 55.34863911, 45.82770354, 41.23259152,\n",
       "       59.65223471, 66.32146969, 52.16523432, 51.51644981, 47.96303597,\n",
       "       47.17258141, 37.94755069, 54.21152698, 50.22553079, 43.86626389,\n",
       "       58.56477387, 46.96271328, 44.30500265, 61.66253088, 64.43808527,\n",
       "       56.33790043, 59.82777926, 33.77370969, 58.23709386, 48.09616295,\n",
       "       57.35668911, 53.31782719, 59.58094777, 54.29109121, 53.67404618,\n",
       "       63.27494439, 54.11177141, 51.02602503, 39.58410229, 67.88994438,\n",
       "       56.22552236, 47.71838665, 36.34621104, 55.39097904, 54.94955516,\n",
       "       45.21777012, 54.84513586, 41.41733634, 37.70975752, 41.29740803,\n",
       "       59.5648989 , 47.24008472, 52.84716393, 63.21485832, 59.96835624,\n",
       "       46.77818507, 41.92571538, 56.03483171, 52.20513163, 43.09790538,\n",
       "       52.77665981, 50.73627187, 52.97864152, 27.65472387, 54.69718868,\n",
       "       36.73804332, 49.87985694, 45.98682786, 36.24230454, 68.42699136,\n",
       "       46.08735385, 32.87049609, 56.44255729, 54.11879019, 30.04677903,\n",
       "       55.12311178, 55.39871232, 53.16770129, 46.28435163, 52.81521526,\n",
       "       41.69548965, 53.63473582, 36.46861581, 38.93444882, 48.20182271,\n",
       "       67.57996584, 58.0946374 , 44.45298421, 58.01056137, 42.83212428,\n",
       "       59.75283229, 44.76789576, 69.52273942, 63.67322211, 58.95019897,\n",
       "       51.76533186, 49.49435435, 58.13583842, 66.00269008, 55.96126637,\n",
       "       57.97888029, 44.42410428, 59.95330755, 47.30618288, 51.74293792,\n",
       "       52.6051129 , 55.1878528 , 53.0542577 , 52.77313252, 51.79216467,\n",
       "       48.73892821, 47.23040196, 38.38578172, 59.10760773, 42.82740233,\n",
       "       48.89727432, 50.55885275, 61.95776483, 49.54904048, 45.82559761,\n",
       "       70.99632896, 50.61146262, 42.90880664, 40.62539686, 50.09147066,\n",
       "       57.54832514, 38.27029905, 54.04463823, 42.62192865, 45.18039372,\n",
       "       35.47977174, 28.49089408, 63.20160075, 64.16006541, 31.6753408 ,\n",
       "       61.26673003, 31.27323243, 50.26387011, 41.33230834, 43.11918309,\n",
       "       46.93914277, 63.28189017, 49.21346675, 38.93976577, 50.22423616,\n",
       "       53.40220458, 49.77013588, 44.59288683, 50.46925966, 57.06938776,\n",
       "       53.71473274, 47.79604749, 49.223776  , 48.56154757, 33.94924789,\n",
       "       49.26448104, 51.93299499, 48.03782668, 56.54447378, 48.04818368,\n",
       "       47.67314467, 50.51752378, 48.5539064 , 46.24178557, 56.85997695,\n",
       "       46.24897351, 27.26153596, 39.99045757, 38.32900001, 61.45969938,\n",
       "       62.59156775, 52.28688072, 53.67142013, 55.23324398, 48.8803718 ,\n",
       "       46.99687055, 60.15142087, 31.76980766, 61.46979455, 50.60439345,\n",
       "       44.56215078, 52.59340866, 44.06623259, 43.17896979, 67.1709822 ,\n",
       "       48.63202225, 41.89820371, 53.01121241, 44.73344991, 48.63973123,\n",
       "       25.22404535, 52.76581366, 40.77854933, 56.01805462, 54.92485161,\n",
       "       42.1653156 , 57.49853505, 57.55638119, 57.71228534, 45.36248557,\n",
       "       65.72340725, 44.72103214, 45.66054136, 42.48052998, 48.34405784,\n",
       "       36.62815702, 64.8065044 , 53.22713454, 47.61672784, 46.54420614,\n",
       "       48.78949126, 52.18774736, 59.29286586, 55.45728571, 54.99642126,\n",
       "       50.90221539, 44.22157356, 63.32744267, 50.87580189, 53.12160634,\n",
       "       59.66284064, 55.07359895, 44.19777324, 60.33188549, 44.11332423,\n",
       "       40.93408279, 52.1999987 , 58.92490221, 43.07317751, 59.43062364,\n",
       "       38.78972658, 51.9898839 , 32.73733922, 46.16042586, 57.06238269,\n",
       "       36.38582135, 38.0430562 , 52.3012481 , 29.55162297, 50.7487504 ,\n",
       "       44.98012019, 55.65444836, 68.63733304, 59.0456757 , 42.20532229,\n",
       "       73.20261884, 41.13281323, 52.75171865, 50.08826558, 65.46263811,\n",
       "       43.99589839, 45.59567974, 47.33132677, 37.89721474, 62.3663476 ,\n",
       "       63.05333902, 55.29441812, 52.04357736, 47.70796532, 45.98429204,\n",
       "       55.78854143, 54.76190165, 52.16526777, 56.98595024, 86.06420326,\n",
       "       38.34653795, 44.92867211, 37.31258955, 48.51949982, 54.2534071 ,\n",
       "       60.10791402, 34.56802584, 41.92631775, 43.57915903, 43.90013312,\n",
       "       50.35933926, 55.19007096, 48.40601911, 63.67312635, 49.21785744,\n",
       "       59.66873733, 47.35228966, 63.01849379, 56.77579177, 55.65048373,\n",
       "       47.26723366, 45.52493225, 66.25528091, 59.52193821, 45.46577955,\n",
       "       44.15733948, 51.62251995, 66.24554336, 39.41561419, 44.3431542 ,\n",
       "       49.46317408, 42.59992765, 57.62106595, 49.97856133, 53.06819194,\n",
       "       41.06419984, 48.25332412, 42.39125819, 66.3255504 , 43.66848883,\n",
       "       50.70643608, 46.04482156, 42.11748703, 38.02060547, 64.28051055,\n",
       "       58.95072784, 35.87500184, 55.58339831, 49.13555186, 45.01730311,\n",
       "       35.15100949, 50.7662551 , 46.35196145, 52.83037656, 65.190931  ,\n",
       "       47.7356757 , 42.82812162, 52.05846449, 39.61153316, 56.83096081,\n",
       "       41.90647987, 49.19453338, 49.0956788 , 41.91142305, 35.59130467,\n",
       "       36.54311208, 40.31246917, 44.2057922 , 55.98204408, 48.67371161,\n",
       "       60.95542445, 46.35860886, 42.13644164, 42.09371144, 59.37543361,\n",
       "       31.91726471, 53.37604491, 52.04359529, 44.56102314, 59.39663707,\n",
       "       51.28640413, 57.22760241, 58.55791525, 54.26648448, 19.26295176,\n",
       "       45.3165855 , 39.19240563, 53.01828024, 45.2757786 , 49.81451068,\n",
       "       40.50554206, 48.67248045, 30.86339259, 55.21878744, 54.93104265,\n",
       "       39.07019788, 62.15759744, 48.02947699, 52.83963301, 63.99904123,\n",
       "       54.28684462, 46.61408955, 51.86616207, 64.26435605, 33.04555322,\n",
       "       50.3598423 , 19.98915599, 40.85665769, 58.08232248, 54.44450677,\n",
       "       47.27778966, 54.92882611, 49.10479901, 58.41235064, 56.18371215,\n",
       "       39.15162101, 46.91961694, 54.86893083, 50.6132099 , 44.17593068,\n",
       "       32.39664486, 35.06132345, 45.8555787 , 51.67072444, 40.23691896,\n",
       "       49.14761745, 52.93219263, 76.90803449, 49.96589753, 57.18322446,\n",
       "       49.4220999 , 60.7960432 , 63.98631008, 46.86359101, 60.61092181,\n",
       "       42.35803418, 49.2515631 , 66.37135147, 32.05579498, 45.88832338,\n",
       "       53.63976798, 57.02928493, 56.87746774, 45.51522552, 48.65581975,\n",
       "       23.11377144, 62.08153247, 44.72264628, 51.18965049, 61.97031597,\n",
       "       48.78046649, 56.43334276, 49.02636185, 55.05871608, 37.38056046,\n",
       "       41.4264439 , 34.96421016, 53.73819537, 58.37093196, 57.20213363,\n",
       "       60.48014871, 65.6369161 , 49.32029881, 52.8172998 , 55.02729059,\n",
       "       57.3373106 , 70.65575695, 51.55614589, 48.09538788, 41.04329492,\n",
       "       55.56139282, 49.31796948, 43.75208002, 33.78524939, 32.27079556,\n",
       "       41.67712789, 58.13199915, 37.68103629, 48.31988421, 39.08877653,\n",
       "       55.94988242, 38.39788643, 51.44870535, 40.20927654, 61.0168499 ,\n",
       "       52.79126087, 51.64009678, 51.67847525, 80.49541318, 46.16106958,\n",
       "       47.83141988, 63.47524556, 50.6487172 , 31.84728537, 51.51293171,\n",
       "       54.91599792, 41.13202815, 49.82758566, 57.33017571, 46.08013664,\n",
       "       43.28618086, 39.25112267, 48.25510603, 42.252454  , 44.13332604,\n",
       "       43.3321244 , 56.43878222, 40.638358  , 54.91920753, 65.96761928,\n",
       "       34.51434824, 57.568672  , 42.59328339, 53.47497931, 64.62266803,\n",
       "       72.40889544, 33.83663046, 37.761859  , 44.81346429, 36.30064531,\n",
       "       51.78897135, 45.7826016 , 53.77789774, 71.08308329, 43.18164655,\n",
       "       61.76954106, 38.57699574, 62.37634467, 47.98974089, 49.47968438,\n",
       "       51.85517205, 40.91087812, 41.42018731, 66.98076935, 44.63729768,\n",
       "       49.73045627, 56.42168997, 50.14881328, 44.9066387 , 45.95412376,\n",
       "       59.19958146, 64.71946098, 55.28479777, 51.59827206, 63.1165263 ,\n",
       "       58.50232765, 36.45317587, 57.32506833, 50.94308474, 38.57598359,\n",
       "       44.19408196, 52.17078794, 42.90553276, 57.84273041, 41.3380945 ,\n",
       "       52.33761546, 34.58811957, 46.06896114, 50.3973941 , 34.6074908 ,\n",
       "       42.6767272 , 51.59436491, 63.42330334, 58.28369088, 41.22184165,\n",
       "       47.40357239, 56.99933162, 63.79186331, 35.44797241, 63.22049393,\n",
       "       56.01561628, 48.749756  , 53.33933793, 40.37990495, 53.73098293,\n",
       "       44.91177016, 54.57099769, 33.57680006, 63.95162209, 45.30652594,\n",
       "       61.96939167, 50.30360504, 58.95505637, 49.35856807, 44.14080486,\n",
       "       53.93726268, 67.49383519, 44.93707094, 59.79532976, 65.2637176 ,\n",
       "       49.18481292, 55.68991025, 57.94974495, 51.6470491 , 51.38142272,\n",
       "       54.11931007, 51.8660117 , 48.31781546, 58.73816432, 45.73777762,\n",
       "       66.70856412, 41.77432933, 56.56628332, 61.60082561, 38.1558271 ,\n",
       "       48.60763029, 61.52748946, 36.07546263, 41.47687469, 47.80880577,\n",
       "       39.54653424, 47.39659759, 41.80994745, 72.67871239, 48.54098691,\n",
       "       57.05291254, 42.90912317, 65.85096378, 56.05194375, 55.02659926,\n",
       "       37.39005245, 57.66348622, 59.25472645, 64.71380248, 39.56311491,\n",
       "       69.06724344, 39.29191624, 37.17777393, 56.58230084, 55.08873565,\n",
       "       54.9052282 , 43.55831289, 57.24937301, 46.91564193, 51.60284278,\n",
       "       51.1516292 , 46.80952728, 45.57750946, 64.74729313, 64.52933697,\n",
       "       68.69047661, 52.50703621, 48.95575742, 47.01097425, 57.01881278,\n",
       "       55.62292547, 37.96632703, 64.2654772 , 55.83506658, 47.86082256,\n",
       "       59.27248735, 37.40235623, 50.38059818, 50.23146525, 58.17474434,\n",
       "       75.21542438, 39.56618672, 52.9847761 , 38.41058073, 45.64338089,\n",
       "       59.33153717, 55.72139772, 68.66250706, 57.44989007, 52.94585786,\n",
       "       60.76993602, 49.52043065, 43.18527079, 47.793651  , 48.13058247,\n",
       "       53.31938547, 62.12552193, 54.60155976, 45.53702106, 53.89487212,\n",
       "       52.82728865, 51.72864329, 63.96731225, 70.60020273, 52.52612993,\n",
       "       51.67957435, 39.59106164, 57.11088216, 60.63629202, 56.02648792,\n",
       "       61.20510409, 36.208079  , 46.31123389, 42.6867188 , 48.74166354,\n",
       "       41.09460103, 51.66847991, 62.09142317, 72.22885871, 68.96596573,\n",
       "       64.22996901, 60.55222463, 49.2334701 , 62.11620983, 45.56027463,\n",
       "       39.92062528, 49.21735841, 45.83897478, 50.93838248, 25.32820365,\n",
       "       43.36900885, 41.37662608, 43.14897926, 40.89439557, 56.8683876 ,\n",
       "       31.03462536, 53.49127306, 42.82325397, 38.17146594, 53.7313756 ,\n",
       "       49.645431  , 36.78218179, 49.23411699, 65.29815641, 49.49498236,\n",
       "       74.81545394, 26.43767736, 33.57801886, 60.25903888, 67.09214155,\n",
       "       46.47309482, 57.33367118, 50.2258324 , 34.35255441, 61.62427638,\n",
       "       39.08255509, 52.48102905, 34.84079192, 42.51007118, 30.21560457,\n",
       "       44.09032919, 32.48318268, 65.12392756, 43.90805288, 43.65578045,\n",
       "       65.51948424, 33.91655214, 47.67525323, 39.48641669, 48.10424833,\n",
       "       55.6253204 , 42.46209965, 46.82481768, 52.75742351, 33.93247873,\n",
       "       56.40649844, 54.72135152, 41.40181839, 51.96961695, 44.7814166 ,\n",
       "       59.705067  , 46.06899004, 67.25317887, 30.73017351, 26.56200379,\n",
       "       52.19162369, 52.16805197, 44.59559334, 42.49191726, 57.10614754,\n",
       "       48.46017861, 51.31712467, 56.19876829, 47.06984967, 43.80685562,\n",
       "       32.99894503, 62.6586343 , 48.44244484, 52.38739968, 48.76069208,\n",
       "       56.63856259, 53.03461232, 28.15417447, 45.72083529, 45.98192009,\n",
       "       44.52383365, 41.45758388, 49.98777765, 62.980261  , 62.16739784,\n",
       "       47.55434251, 43.68667482, 44.21196583, 61.33085522, 51.2298725 ,\n",
       "       57.43808107, 43.00351684, 53.02931413, 61.90101808, 40.93311471,\n",
       "       54.9869255 , 48.0386469 , 48.06678509, 57.41079328, 45.70720418,\n",
       "       52.70332231, 60.89815693, 34.26734794, 33.75208796, 52.31673164,\n",
       "       47.34849982, 42.81047398, 48.14657956, 64.33105746, 51.52751803,\n",
       "       43.19600887, 46.64214324, 56.28761334, 51.69951546, 44.02897683,\n",
       "       44.00367903, 33.02614272, 26.12897914, 53.4637385 , 38.70305046,\n",
       "       51.52565767, 43.58139427, 57.92639332, 62.78211981, 48.85670027,\n",
       "       46.80707756, 51.21506009, 49.1266513 , 29.74203118, 44.80080094,\n",
       "       42.42759926, 42.24199925, 39.13555042, 43.61184509, 60.81931789,\n",
       "       56.68659978, 38.36866006, 69.7896178 , 55.06733058, 56.35698689,\n",
       "       69.54359718, 48.7264338 , 45.64024704, 48.60837245, 64.16117415,\n",
       "       50.68866344, 33.75072438, 48.90874496, 69.21088343, 42.36090203,\n",
       "       47.38905176, 46.88371741, 39.80882928, 31.69002011, 50.23255189,\n",
       "       58.06750264, 57.17903407, 51.44944236, 51.69547812, 44.75506674,\n",
       "       56.74900161, 39.08117274, 52.95237749, 63.53471835, 68.29622784,\n",
       "       57.39685831, 60.08934586, 38.70134314, 61.69033453, 39.56129427,\n",
       "       52.39680153, 40.36976993, 48.61356406, 37.61643056, 58.73872185,\n",
       "       60.30036586, 67.96074846, 49.81474437, 45.93802977, 61.96647378,\n",
       "       29.27078573, 63.34967431, 46.24187313, 56.22861376, 40.98895255,\n",
       "       47.00846917, 66.36505437, 66.22164775, 43.30690074, 53.41272026,\n",
       "       63.14068801, 49.06807666, 37.6951737 , 54.79067363, 59.09714776,\n",
       "       44.94488145, 66.10761948, 57.15480528, 58.75053774, 62.82461273,\n",
       "       50.4680797 , 48.46301273, 45.36984901, 29.46676892, 60.47009669,\n",
       "       42.24952693, 69.34702786, 50.05738227, 46.76695488, 42.52757333,\n",
       "       41.39810074, 48.45040178, 56.39424863, 66.91987096, 43.5590925 ,\n",
       "       43.79189584, 53.99477722, 45.9522074 , 51.22643689, 38.82569317,\n",
       "       34.35709897, 51.41322475, 51.56758072, 58.78302814, 55.12940654,\n",
       "       47.17496376, 47.06638513, 44.7724613 , 46.50461606, 71.20648799,\n",
       "       62.53954428, 46.54594961, 41.43644504, 42.31187888, 62.11648474,\n",
       "       53.19421162, 76.22139086, 58.35062901, 44.68649085, 51.40998209,\n",
       "       59.47212129, 44.11520684, 37.06118669, 46.11364391, 35.13116912,\n",
       "       40.10407851, 62.69012704, 61.96814688, 49.48259471, 48.00022932,\n",
       "       67.1800716 , 59.73848446, 35.6893793 , 48.47698721, 38.71624674,\n",
       "       46.23920344, 51.94888464, 53.34952221, 50.90292313, 53.12933817,\n",
       "       36.64444674, 44.03897824, 54.90022035, 39.15148344, 43.88292264,\n",
       "       42.13561073, 53.79308261, 26.03721533, 35.19178226, 49.31111614,\n",
       "       67.93341066, 47.68629559, 27.05183152, 62.23677358, 48.62091741,\n",
       "       32.45571594, 27.01173089, 50.07740309, 68.52520165, 42.99014132,\n",
       "       52.74323778, 38.43792478, 48.24267069, 51.89226915, 49.77283517])"
      ]
     },
     "execution_count": 3,
     "metadata": {},
     "output_type": "execute_result"
    }
   ],
   "execution_count": 3
  },
  {
   "metadata": {
    "ExecuteTime": {
     "end_time": "2025-09-25T04:27:52.685554Z",
     "start_time": "2025-09-25T04:27:52.496482Z"
    }
   },
   "cell_type": "code",
   "source": "plt.hist(samples1, bins=100)",
   "id": "4771f5b35a0e3c0d",
   "outputs": [
    {
     "data": {
      "text/plain": [
       "(array([ 1.,  1.,  0.,  0.,  0.,  2.,  0.,  0.,  1.,  1.,  4.,  3.,  1.,\n",
       "         3.,  2.,  3.,  2.,  4.,  6.,  5.,  7., 10.,  7.,  7.,  5., 10.,\n",
       "         6., 12., 15., 17., 13., 13., 16., 20., 23., 24., 21., 27., 22.,\n",
       "        28., 29., 24., 21., 37., 38., 22., 24., 20., 37., 22., 34., 21.,\n",
       "        13., 30., 19., 23., 27., 16., 16., 18., 17., 11.,  9., 14., 13.,\n",
       "        15., 10., 10.,  8.,  7.,  8.,  8.,  5.,  8.,  4.,  3.,  2.,  4.,\n",
       "         0.,  3.,  1.,  1.,  0.,  2.,  0.,  1.,  1.,  0.,  0.,  0.,  0.,\n",
       "         1.,  0.,  0.,  0.,  0.,  0.,  0.,  0.,  1.]),\n",
       " array([19.26295176, 19.93096428, 20.59897679, 21.26698931, 21.93500182,\n",
       "        22.60301434, 23.27102685, 23.93903937, 24.60705188, 25.2750644 ,\n",
       "        25.94307691, 26.61108943, 27.27910194, 27.94711446, 28.61512697,\n",
       "        29.28313949, 29.951152  , 30.61916452, 31.28717703, 31.95518955,\n",
       "        32.62320206, 33.29121458, 33.95922709, 34.62723961, 35.29525212,\n",
       "        35.96326464, 36.63127715, 37.29928967, 37.96730218, 38.6353147 ,\n",
       "        39.30332721, 39.97133973, 40.63935224, 41.30736476, 41.97537727,\n",
       "        42.64338979, 43.3114023 , 43.97941482, 44.64742733, 45.31543985,\n",
       "        45.98345236, 46.65146488, 47.31947739, 47.98748991, 48.65550242,\n",
       "        49.32351494, 49.99152745, 50.65953997, 51.32755248, 51.995565  ,\n",
       "        52.66357751, 53.33159003, 53.99960254, 54.66761506, 55.33562757,\n",
       "        56.00364009, 56.6716526 , 57.33966512, 58.00767763, 58.67569015,\n",
       "        59.34370266, 60.01171518, 60.67972769, 61.34774021, 62.01575272,\n",
       "        62.68376524, 63.35177775, 64.01979027, 64.68780278, 65.3558153 ,\n",
       "        66.02382781, 66.69184033, 67.35985284, 68.02786536, 68.69587787,\n",
       "        69.36389039, 70.0319029 , 70.69991542, 71.36792793, 72.03594045,\n",
       "        72.70395296, 73.37196548, 74.03997799, 74.70799051, 75.37600302,\n",
       "        76.04401554, 76.71202805, 77.38004057, 78.04805308, 78.7160656 ,\n",
       "        79.38407811, 80.05209063, 80.72010314, 81.38811566, 82.05612817,\n",
       "        82.72414069, 83.3921532 , 84.06016572, 84.72817823, 85.39619075,\n",
       "        86.06420326]),\n",
       " <BarContainer object of 100 artists>)"
      ]
     },
     "execution_count": 6,
     "metadata": {},
     "output_type": "execute_result"
    },
    {
     "data": {
      "text/plain": [
       "<Figure size 640x480 with 1 Axes>"
      ],
      "image/png": "[encoded data removed]"
     },
     "metadata": {},
     "output_type": "display_data",
     "jetTransient": {
      "display_id": null
     }
    }
   ],
   "execution_count": 6
  },
  {
   "metadata": {
    "ExecuteTime": {
     "end_time": "2025-09-25T04:35:46.884643Z",
     "start_time": "2025-09-25T04:35:46.833997Z"
    }
   },
   "cell_type": "code",
   "source": [
    "samples3 = np.random.binomial(10, 0.5, 1000)\n",
    "samples3"
   ],
   "id": "30d0b2e2a8ead283",
   "outputs": [
    {
     "data": {
      "text/plain": [
       "array([5, 3, 3, 5, 6, 6, 4, 3, 4, 5, 5, 6, 5, 8, 3, 5, 6, 4, 5, 5, 3, 5,\n",
       "       5, 2, 7, 3, 5, 4, 4, 4, 4, 4, 6, 5, 6, 5, 9, 4, 7, 7, 6, 6, 6, 5,\n",
       "       5, 7, 4, 4, 8, 6, 4, 6, 4, 5, 4, 8, 6, 8, 5, 4, 6, 5, 7, 6, 4, 4,\n",
       "       7, 4, 5, 4, 5, 8, 5, 5, 6, 7, 4, 7, 2, 6, 5, 7, 4, 5, 5, 7, 0, 6,\n",
       "       3, 5, 8, 3, 6, 3, 7, 7, 4, 4, 6, 5, 7, 7, 5, 1, 6, 5, 3, 5, 5, 5,\n",
       "       4, 7, 3, 6, 3, 6, 6, 4, 5, 7, 8, 4, 6, 6, 3, 3, 6, 5, 4, 5, 6, 6,\n",
       "       6, 6, 6, 7, 4, 7, 7, 5, 4, 7, 6, 6, 6, 7, 4, 5, 4, 6, 2, 6, 3, 6,\n",
       "       6, 6, 4, 5, 7, 2, 7, 4, 6, 3, 4, 6, 8, 4, 4, 5, 5, 2, 5, 7, 4, 3,\n",
       "       5, 3, 3, 3, 5, 6, 9, 7, 3, 6, 3, 5, 4, 4, 5, 6, 7, 4, 2, 6, 2, 6,\n",
       "       2, 4, 4, 4, 6, 2, 4, 5, 5, 6, 3, 5, 5, 6, 8, 4, 4, 6, 6, 5, 4, 4,\n",
       "       8, 4, 8, 5, 5, 4, 6, 5, 4, 7, 5, 6, 6, 5, 4, 1, 4, 5, 7, 6, 7, 6,\n",
       "       4, 7, 5, 5, 6, 5, 8, 7, 7, 6, 3, 5, 4, 6, 6, 4, 4, 4, 3, 6, 4, 5,\n",
       "       8, 6, 8, 4, 7, 7, 6, 5, 5, 4, 2, 4, 3, 6, 6, 4, 3, 6, 3, 5, 6, 6,\n",
       "       3, 7, 4, 2, 5, 4, 6, 3, 6, 7, 4, 6, 4, 5, 4, 7, 6, 3, 6, 3, 7, 6,\n",
       "       6, 6, 3, 7, 3, 6, 6, 4, 5, 3, 8, 5, 3, 3, 8, 5, 6, 3, 9, 3, 7, 6,\n",
       "       2, 5, 5, 5, 4, 4, 6, 6, 7, 7, 5, 4, 4, 7, 5, 6, 7, 5, 8, 5, 6, 7,\n",
       "       3, 6, 3, 5, 7, 5, 7, 4, 7, 8, 5, 6, 5, 6, 5, 5, 4, 6, 5, 4, 4, 8,\n",
       "       3, 4, 8, 6, 6, 2, 6, 4, 7, 7, 3, 5, 4, 3, 1, 2, 6, 3, 6, 6, 6, 5,\n",
       "       6, 5, 5, 5, 6, 3, 4, 4, 4, 1, 7, 3, 5, 5, 1, 6, 7, 5, 9, 8, 7, 3,\n",
       "       6, 6, 6, 6, 4, 2, 4, 4, 4, 5, 3, 7, 4, 6, 5, 6, 5, 4, 3, 6, 5, 7,\n",
       "       7, 3, 4, 5, 6, 6, 7, 6, 4, 5, 5, 5, 4, 5, 6, 6, 2, 4, 6, 6, 5, 6,\n",
       "       6, 3, 2, 5, 7, 3, 2, 6, 5, 6, 2, 5, 6, 1, 6, 2, 5, 5, 6, 6, 5, 5,\n",
       "       6, 4, 5, 5, 3, 4, 3, 3, 4, 3, 6, 5, 5, 4, 6, 5, 5, 5, 3, 4, 2, 5,\n",
       "       5, 4, 3, 8, 5, 6, 5, 5, 6, 6, 5, 3, 3, 3, 6, 3, 3, 8, 3, 5, 6, 5,\n",
       "       4, 3, 6, 6, 3, 7, 4, 4, 4, 7, 4, 7, 5, 6, 5, 2, 7, 2, 5, 5, 6, 5,\n",
       "       1, 3, 6, 5, 5, 6, 7, 9, 7, 3, 6, 7, 9, 7, 7, 5, 4, 7, 4, 6, 6, 3,\n",
       "       5, 3, 3, 5, 5, 6, 6, 6, 4, 7, 5, 1, 5, 5, 6, 2, 6, 8, 8, 6, 4, 4,\n",
       "       6, 5, 3, 4, 7, 7, 6, 4, 2, 3, 5, 7, 6, 5, 6, 5, 4, 4, 6, 5, 7, 3,\n",
       "       3, 5, 5, 5, 2, 5, 3, 4, 6, 5, 6, 4, 7, 4, 7, 4, 4, 3, 5, 6, 6, 4,\n",
       "       5, 6, 4, 6, 4, 4, 3, 6, 6, 7, 5, 2, 4, 6, 5, 3, 6, 5, 6, 7, 4, 4,\n",
       "       7, 8, 3, 2, 2, 5, 4, 2, 3, 6, 7, 4, 6, 5, 6, 5, 6, 3, 4, 6, 4, 5,\n",
       "       9, 4, 3, 6, 5, 4, 3, 4, 5, 4, 5, 5, 5, 4, 5, 4, 5, 5, 3, 3, 8, 3,\n",
       "       2, 5, 4, 7, 3, 4, 6, 2, 5, 7, 3, 6, 3, 6, 6, 5, 6, 6, 5, 6, 5, 7,\n",
       "       4, 6, 5, 4, 7, 5, 5, 6, 4, 4, 6, 4, 7, 4, 5, 7, 3, 4, 5, 4, 8, 6,\n",
       "       6, 6, 7, 2, 6, 5, 4, 6, 6, 5, 7, 6, 4, 7, 6, 3, 5, 7, 6, 6, 5, 5,\n",
       "       4, 8, 7, 4, 4, 6, 8, 6, 5, 4, 4, 5, 4, 8, 7, 3, 4, 5, 3, 6, 6, 7,\n",
       "       4, 5, 6, 4, 6, 4, 5, 4, 6, 7, 4, 4, 5, 8, 7, 4, 4, 6, 5, 6, 5, 2,\n",
       "       6, 3, 3, 6, 7, 6, 8, 5, 6, 5, 4, 6, 4, 5, 5, 3, 5, 6, 4, 4, 6, 7,\n",
       "       4, 5, 5, 5, 6, 8, 5, 5, 6, 6, 2, 3, 4, 5, 3, 6, 3, 8, 8, 3, 3, 4,\n",
       "       4, 7, 6, 3, 6, 1, 4, 4, 9, 6, 5, 7, 4, 4, 5, 4, 6, 6, 5, 4, 5, 5,\n",
       "       5, 3, 5, 6, 3, 4, 5, 4, 5, 5, 5, 6, 3, 7, 6, 3, 5, 6, 4, 3, 5, 6,\n",
       "       7, 7, 6, 6, 6, 5, 4, 5, 7, 6, 6, 4, 6, 5, 4, 4, 5, 4, 4, 6, 5, 3,\n",
       "       6, 3, 5, 6, 4, 5, 3, 5, 4, 7, 2, 3, 5, 6, 5, 3, 3, 5, 8, 6, 5, 3,\n",
       "       3, 5, 6, 7, 5, 5, 5, 3, 5, 7, 8, 3, 5, 6, 3, 3, 5, 6, 5, 5, 3, 2,\n",
       "       5, 4, 5, 6, 4, 5, 5, 5, 6, 6, 3, 4, 6, 4, 3, 5, 5, 6, 6, 5, 5, 6,\n",
       "       3, 5, 2, 6, 3, 6, 6, 6, 5, 7], dtype=int32)"
      ]
     },
     "execution_count": 7,
     "metadata": {},
     "output_type": "execute_result"
    }
   ],
   "execution_count": 7
  },
  {
   "metadata": {},
   "cell_type": "code",
   "outputs": [],
   "execution_count": null,
   "source": "",
   "id": "2ddf81d78b0d02d1"
  }
 ],
 "metadata": {
  "kernelspec": {
   "display_name": "Python 3",
   "language": "python",
   "name": "python3"
  },
  "language_info": {
   "codemirror_mode": {
    "name": "ipython",
    "version": 2
   },
   "file_extension": ".py",
   "mimetype": "text/x-python",
   "name": "python",
   "nbconvert_exporter": "python",
   "pygments_lexer": "ipython2",
   "version": "2.7.6"
  }
 },
 "nbformat": 4,
 "nbformat_minor": 5
}
