{
 "cells": [
  {
   "cell_type": "code",
   "id": "initial_id",
   "metadata": {
    "collapsed": true,
    "ExecuteTime": {
     "end_time": "2025-09-21T12:17:07.151421Z",
     "start_time": "2025-09-21T12:17:07.015271Z"
    }
   },
   "source": [
    "import numpy as np\n",
    "import scipy\n",
    "\n",
    "print(np.__version__)"
   ],
   "outputs": [
    {
     "name": "stdout",
     "output_type": "stream",
     "text": [
      "2.3.3\n"
     ]
    }
   ],
   "execution_count": 1
  },
  {
   "metadata": {
    "ExecuteTime": {
     "end_time": "2025-09-21T12:20:57.625866Z",
     "start_time": "2025-09-21T12:20:57.620551Z"
    }
   },
   "cell_type": "code",
   "source": [
    "x = np.array([[1,2,3],[1,4,5]])\n",
    "print(\"x:\\n{}\".format(x))"
   ],
   "id": "fab0d34c21fd84d",
   "outputs": [
    {
     "name": "stdout",
     "output_type": "stream",
     "text": [
      "x:\n",
      "[[1 2 3]\n",
      " [1 4 5]]\n"
     ]
    }
   ],
   "execution_count": 5
  },
  {
   "metadata": {
    "ExecuteTime": {
     "end_time": "2025-09-21T14:10:09.697147Z",
     "start_time": "2025-09-21T14:10:09.554985Z"
    }
   },
   "cell_type": "code",
   "source": [
    "from scipy import sparse\n",
    "eye =  np.eye(4)\n",
    "print(\"eye:\\n {}\".format(eye))"
   ],
   "id": "1da30a95fb77ade",
   "outputs": [
    {
     "name": "stdout",
     "output_type": "stream",
     "text": [
      "eye:\n",
      " [[1. 0. 0. 0.]\n",
      " [0. 1. 0. 0.]\n",
      " [0. 0. 1. 0.]\n",
      " [0. 0. 0. 1.]]\n"
     ]
    }
   ],
   "execution_count": 8
  },
  {
   "metadata": {
    "ExecuteTime": {
     "end_time": "2025-09-21T14:12:33.196602Z",
     "start_time": "2025-09-21T14:12:33.187378Z"
    }
   },
   "cell_type": "code",
   "source": [
    "sparse_matrix = sparse.csr_matrix(eye)\n",
    "print(\"sparse matrix:\\n{}\".format(sparse_matrix))"
   ],
   "id": "d7d1385b744766e6",
   "outputs": [
    {
     "name": "stdout",
     "output_type": "stream",
     "text": [
      "sparse matrix:\n",
      "<Compressed Sparse Row sparse matrix of dtype 'float64'\n",
      "\twith 4 stored elements and shape (4, 4)>\n",
      "  Coords\tValues\n",
      "  (0, 0)\t1.0\n",
      "  (1, 1)\t1.0\n",
      "  (2, 2)\t1.0\n",
      "  (3, 3)\t1.0\n"
     ]
    }
   ],
   "execution_count": 10
  },
  {
   "metadata": {
    "ExecuteTime": {
     "end_time": "2025-09-21T15:03:37.513917Z",
     "start_time": "2025-09-21T15:03:37.503996Z"
    }
   },
   "cell_type": "code",
   "source": [
    "## creating a sparse matrix using the COO method\n",
    "data = np.ones(4)\n",
    "row_indices = np.arange(4)\n",
    "column_indices = np.arange(4)\n",
    "eye_coo = sparse.coo_matrix((data, (row_indices, column_indices)))\n",
    "print(\"COO representation: \\n {}\".format(eye_coo))"
   ],
   "id": "2d4b040f9daf4cf",
   "outputs": [
    {
     "name": "stdout",
     "output_type": "stream",
     "text": [
      "COO representation: \n",
      " <COOrdinate sparse matrix of dtype 'float64'\n",
      "\twith 4 stored elements and shape (4, 4)>\n",
      "  Coords\tValues\n",
      "  (0, 0)\t1.0\n",
      "  (1, 1)\t1.0\n",
      "  (2, 2)\t1.0\n",
      "  (3, 3)\t1.0\n"
     ]
    }
   ],
   "execution_count": 16
  }
 ],
 "metadata": {
  "kernelspec": {
   "display_name": "Python 3",
   "language": "python",
   "name": "python3"
  },
  "language_info": {
   "codemirror_mode": {
    "name": "ipython",
    "version": 2
   },
   "file_extension": ".py",
   "mimetype": "text/x-python",
   "name": "python",
   "nbconvert_exporter": "python",
   "pygments_lexer": "ipython2",
   "version": "2.7.6"
  }
 },
 "nbformat": 4,
 "nbformat_minor": 5
}
