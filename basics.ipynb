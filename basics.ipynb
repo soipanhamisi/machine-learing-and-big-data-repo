{
 "cells": [
  {
   "cell_type": "code",
   "id": "initial_id",
   "metadata": {
    "collapsed": true,
    "ExecuteTime": {
     "end_time": "2025-10-20T07:39:16.310599Z",
     "start_time": "2025-10-20T07:39:16.099645Z"
    }
   },
   "source": [
    "from random import randint\n",
    "\n",
    "import numpy as np\n",
    "import scipy\n",
    "\n",
    "print(np.__version__)"
   ],
   "outputs": [
    {
     "name": "stdout",
     "output_type": "stream",
     "text": [
      "2.3.3\n"
     ]
    }
   ],
   "execution_count": 1
  },
  {
   "metadata": {
    "ExecuteTime": {
     "end_time": "2025-10-20T07:39:16.337036Z",
     "start_time": "2025-10-20T07:39:16.331156Z"
    }
   },
   "cell_type": "code",
   "source": [
    "x = np.array([[1,2,3],[1,4,5]])\n",
    "print(\"x:\\n{}\".format(x))"
   ],
   "id": "fab0d34c21fd84d",
   "outputs": [
    {
     "name": "stdout",
     "output_type": "stream",
     "text": [
      "x:\n",
      "[[1 2 3]\n",
      " [1 4 5]]\n"
     ]
    }
   ],
   "execution_count": 2
  },
  {
   "metadata": {
    "ExecuteTime": {
     "end_time": "2025-10-20T07:39:16.797697Z",
     "start_time": "2025-10-20T07:39:16.419680Z"
    }
   },
   "cell_type": "code",
   "source": [
    "from scipy import sparse\n",
    "eye =  np.eye(4)\n",
    "print(\"eye:\\n {}\".format(eye))"
   ],
   "id": "1da30a95fb77ade",
   "outputs": [
    {
     "name": "stdout",
     "output_type": "stream",
     "text": [
      "eye:\n",
      " [[1. 0. 0. 0.]\n",
      " [0. 1. 0. 0.]\n",
      " [0. 0. 1. 0.]\n",
      " [0. 0. 0. 1.]]\n"
     ]
    }
   ],
   "execution_count": 3
  },
  {
   "metadata": {
    "ExecuteTime": {
     "end_time": "2025-10-20T07:39:16.815567Z",
     "start_time": "2025-10-20T07:39:16.808965Z"
    }
   },
   "cell_type": "code",
   "source": [
    "sparse_matrix = sparse.csr_matrix(eye)\n",
    "print(\"sparse matrix:\\n{}\".format(sparse_matrix))"
   ],
   "id": "d7d1385b744766e6",
   "outputs": [
    {
     "name": "stdout",
     "output_type": "stream",
     "text": [
      "sparse matrix:\n",
      "<Compressed Sparse Row sparse matrix of dtype 'float64'\n",
      "\twith 4 stored elements and shape (4, 4)>\n",
      "  Coords\tValues\n",
      "  (0, 0)\t1.0\n",
      "  (1, 1)\t1.0\n",
      "  (2, 2)\t1.0\n",
      "  (3, 3)\t1.0\n"
     ]
    }
   ],
   "execution_count": 4
  },
  {
   "metadata": {
    "ExecuteTime": {
     "end_time": "2025-10-20T07:39:16.883072Z",
     "start_time": "2025-10-20T07:39:16.870948Z"
    }
   },
   "cell_type": "code",
   "source": [
    "## creating a sparse matrix using the COO method\n",
    "data = np.ones(4)\n",
    "row_indices = np.arange(4)\n",
    "column_indices = np.arange(4)\n",
    "eye_coo = sparse.coo_matrix((data, (row_indices, column_indices)))\n",
    "print(\"COO representation: \\n {}\".format(eye_coo))"
   ],
   "id": "2d4b040f9daf4cf",
   "outputs": [
    {
     "name": "stdout",
     "output_type": "stream",
     "text": [
      "COO representation: \n",
      " <COOrdinate sparse matrix of dtype 'float64'\n",
      "\twith 4 stored elements and shape (4, 4)>\n",
      "  Coords\tValues\n",
      "  (0, 0)\t1.0\n",
      "  (1, 1)\t1.0\n",
      "  (2, 2)\t1.0\n",
      "  (3, 3)\t1.0\n"
     ]
    }
   ],
   "execution_count": 5
  },
  {
   "metadata": {
    "ExecuteTime": {
     "end_time": "2025-10-20T07:39:17.122736Z",
     "start_time": "2025-10-20T07:39:16.924374Z"
    }
   },
   "cell_type": "code",
   "source": [
    "import matplotlib as plt\n",
    "print(plt.__version__)"
   ],
   "id": "57307e088a9bf28f",
   "outputs": [
    {
     "name": "stdout",
     "output_type": "stream",
     "text": [
      "3.10.6\n"
     ]
    }
   ],
   "execution_count": 6
  },
  {
   "metadata": {},
   "cell_type": "markdown",
   "source": "#### working with Numpy",
   "id": "455681bac6b108c7"
  },
  {
   "metadata": {
    "ExecuteTime": {
     "end_time": "2025-10-20T07:39:17.136055Z",
     "start_time": "2025-10-20T07:39:17.130056Z"
    }
   },
   "cell_type": "code",
   "source": "import numpy as np",
   "id": "cfcdfde0a78c4b64",
   "outputs": [],
   "execution_count": 7
  },
  {
   "metadata": {},
   "cell_type": "markdown",
   "source": "the arr.shape() method returns the shape of the array row, column  format",
   "id": "faf59399b18e570b"
  },
  {
   "metadata": {
    "ExecuteTime": {
     "end_time": "2025-10-20T07:39:17.160974Z",
     "start_time": "2025-10-20T07:39:17.149652Z"
    }
   },
   "cell_type": "code",
   "source": [
    "x = np.array([1,2,3,4,5,6])\n",
    "print(\"x:\\n{}\".format(x))\n",
    "print(\"shape of array: {}\".format(x.shape))"
   ],
   "id": "b03ac6572b5020b1",
   "outputs": [
    {
     "name": "stdout",
     "output_type": "stream",
     "text": [
      "x:\n",
      "[1 2 3 4 5 6]\n",
      "shape of array: (6,)\n"
     ]
    }
   ],
   "execution_count": 8
  },
  {
   "metadata": {
    "ExecuteTime": {
     "end_time": "2025-10-20T07:39:17.187896Z",
     "start_time": "2025-10-20T07:39:17.181513Z"
    }
   },
   "cell_type": "code",
   "source": [
    "array = np.array([[1,2,3,4], [45,67,88,4]])\n",
    "print(array.shape)"
   ],
   "id": "889339895893594a",
   "outputs": [
    {
     "name": "stdout",
     "output_type": "stream",
     "text": [
      "(2, 4)\n"
     ]
    }
   ],
   "execution_count": 9
  },
  {
   "metadata": {},
   "cell_type": "markdown",
   "source": "creating arrays from scratch using inbuild special functions",
   "id": "a4a020d30b151f09"
  },
  {
   "metadata": {
    "ExecuteTime": {
     "end_time": "2025-10-20T07:39:17.217844Z",
     "start_time": "2025-10-20T07:39:17.209484Z"
    }
   },
   "cell_type": "code",
   "source": [
    "print(np.arange(0, 20, 2))\n",
    "print(np.eye(4))"
   ],
   "id": "d460a38c483852ce",
   "outputs": [
    {
     "name": "stdout",
     "output_type": "stream",
     "text": [
      "[ 0  2  4  6  8 10 12 14 16 18]\n",
      "[[1. 0. 0. 0.]\n",
      " [0. 1. 0. 0.]\n",
      " [0. 0. 1. 0.]\n",
      " [0. 0. 0. 1.]]\n"
     ]
    }
   ],
   "execution_count": 10
  },
  {
   "metadata": {
    "ExecuteTime": {
     "end_time": "2025-10-20T07:39:17.263206Z",
     "start_time": "2025-10-20T07:39:17.255205Z"
    }
   },
   "cell_type": "code",
   "source": [
    "x = x.reshape(1,6)\n",
    "print(\"shape of array: {}\".format(x.shape))"
   ],
   "id": "3bc8f7d7bba39463",
   "outputs": [
    {
     "name": "stdout",
     "output_type": "stream",
     "text": [
      "shape of array: (1, 6)\n"
     ]
    }
   ],
   "execution_count": 11
  },
  {
   "metadata": {
    "ExecuteTime": {
     "end_time": "2025-10-20T07:39:17.295972Z",
     "start_time": "2025-10-20T07:39:17.289783Z"
    }
   },
   "cell_type": "code",
   "source": "print(\"x:\\n{}\".format(x))",
   "id": "8a077925968dab40",
   "outputs": [
    {
     "name": "stdout",
     "output_type": "stream",
     "text": [
      "x:\n",
      "[[1 2 3 4 5 6]]\n"
     ]
    }
   ],
   "execution_count": 12
  },
  {
   "metadata": {
    "ExecuteTime": {
     "end_time": "2025-10-20T07:39:17.341682Z",
     "start_time": "2025-10-20T07:39:17.336128Z"
    }
   },
   "cell_type": "code",
   "source": [
    "x_1 = x.reshape(6, 1)\n",
    "print(\"shape of array: {}\".format(x_1.shape))\n",
    "print(\"array: {}\".format(x_1))"
   ],
   "id": "8cf69e791f502a67",
   "outputs": [
    {
     "name": "stdout",
     "output_type": "stream",
     "text": [
      "shape of array: (6, 1)\n",
      "array: [[1]\n",
      " [2]\n",
      " [3]\n",
      " [4]\n",
      " [5]\n",
      " [6]]\n"
     ]
    }
   ],
   "execution_count": 13
  },
  {
   "metadata": {
    "ExecuteTime": {
     "end_time": "2025-10-20T07:39:17.814652Z",
     "start_time": "2025-10-20T07:39:17.381741Z"
    }
   },
   "cell_type": "code",
   "source": [
    "import numpy as np\n",
    "import matplotlib.pyplot as plt\n",
    "samples1=np.random.normal(50, 10, 1000)\n",
    "samples1"
   ],
   "id": "56213f909f910b5",
   "outputs": [
    {
     "data": {
      "text/plain": [
       "array([55.39806993, 55.29592529, 45.68890946, 47.79143826, 55.73217066,\n",
       "       62.99276607, 53.46249711, 54.26814265, 42.60082492, 50.338594  ,\n",
       "       51.15746311, 34.64602531, 50.10932763, 65.01404258, 58.86976171,\n",
       "       44.74651376, 47.36597526, 45.93938594, 64.87453141, 43.88423297,\n",
       "       42.17473507, 58.66705598, 47.85133302, 58.97046928, 59.74540084,\n",
       "       45.62808105, 35.77776845, 56.97286287, 45.58425015, 56.1249546 ,\n",
       "       51.67023606, 44.11278486, 48.01272399, 50.91011177, 58.52807894,\n",
       "       37.87930652, 46.30379637, 49.89915383, 36.86926904, 49.96186175,\n",
       "       49.98305705, 47.45169732, 44.60551746, 44.10905366, 75.36769307,\n",
       "       54.60675369, 48.12080254, 51.17533878, 44.80729924, 71.17836609,\n",
       "       60.271323  , 46.99592899, 53.57702502, 38.34526588, 42.06599508,\n",
       "       59.21622948, 47.47334476, 38.83395592, 71.80674677, 59.5691385 ,\n",
       "       54.73655845, 65.14453421, 37.18406827, 45.70591919, 59.77565248,\n",
       "       54.09711643, 46.41993773, 41.11984143, 44.13374361, 62.99020326,\n",
       "       53.00741961, 55.36114251, 64.10904989, 51.70037883, 47.6908561 ,\n",
       "       52.00458871, 32.88923817, 58.21214447, 48.33862612, 31.87783379,\n",
       "       36.85184192, 50.27006196, 58.42927687, 57.31116874, 57.26577208,\n",
       "       56.62853343, 62.82157353, 27.28799688, 54.19636192, 52.35501063,\n",
       "       35.78542132, 47.99600797, 66.98218116, 76.18350618, 51.94986112,\n",
       "       63.60572876, 52.41584344, 52.57701391, 38.0882103 , 43.60861281,\n",
       "       48.4251929 , 48.68276102, 51.2113904 , 43.45603054, 49.62984752,\n",
       "       43.45382856, 51.87756688, 57.6883701 , 25.07776651, 54.98203705,\n",
       "       40.64148768, 52.00255072, 48.5321788 , 55.99737044, 60.20934877,\n",
       "       42.87462992, 39.68534363, 49.4723486 , 47.42834262, 47.06956421,\n",
       "       28.99184865, 56.42557577, 59.15274755, 55.43686547, 31.17430044,\n",
       "       45.05818145, 37.75115448, 33.74650296, 56.60383701, 54.32616851,\n",
       "       55.50744259, 38.01383329, 47.99184026, 56.77632361, 45.31908952,\n",
       "       61.34197564, 55.80227786, 40.88723652, 70.6490723 , 37.43370102,\n",
       "       53.32862182, 58.12365542, 57.83130812, 50.988162  , 48.18256397,\n",
       "       53.40183401, 47.51022806, 70.97819852, 70.37303121, 68.68468283,\n",
       "       38.06566088, 42.78446176, 40.34441886, 55.9406875 , 41.8860405 ,\n",
       "       37.07699818, 59.56544559, 63.43298207, 56.66678541, 56.18636583,\n",
       "       32.93067528, 40.67556974, 58.86817294, 45.31494994, 61.81073489,\n",
       "       53.74753037, 55.31681039, 45.80611335, 23.815298  , 70.50792982,\n",
       "       52.10072548, 55.49432142, 49.62032288, 56.02170889, 41.01600164,\n",
       "       50.30442979, 53.53924979, 33.60473872, 47.62129895, 36.29933015,\n",
       "       51.35341058, 35.33499375, 58.18409665, 67.12652997, 58.67620084,\n",
       "       54.86974941, 66.88028298, 39.192238  , 61.04139268, 45.54586186,\n",
       "       54.28961284, 52.22588659, 52.94370573, 38.88425126, 58.17320984,\n",
       "       72.08949724, 55.09783935, 53.25293947, 57.78470657, 53.07798174,\n",
       "       52.35159703, 50.74141155, 61.91030174, 56.07127245, 49.75505013,\n",
       "       49.76011862, 30.8851639 , 55.08258835, 42.70723737, 40.57342786,\n",
       "       63.9100535 , 61.38140694, 49.34979177, 63.643071  , 41.9877472 ,\n",
       "       44.88314062, 45.32508838, 57.08105251, 47.47000494, 47.16145972,\n",
       "       55.13212684, 47.99358253, 64.75611893, 52.61258861, 66.5434178 ,\n",
       "       42.43253305, 58.25891594, 52.10801258, 56.01768055, 42.01882762,\n",
       "       49.05205895, 71.91024647, 51.84478861, 46.38747492, 57.56014856,\n",
       "       63.80493696, 57.28041604, 46.27896899, 67.77072653, 53.12319612,\n",
       "       51.30583025, 38.15897204, 42.22836978, 48.13080477, 33.37272542,\n",
       "       72.14695177, 30.47578105, 41.0770057 , 45.63045653, 58.28913802,\n",
       "       43.6034017 , 49.96373694, 44.60014177, 48.52079103, 44.96347242,\n",
       "       49.65509357, 33.2327317 , 46.57025843, 50.08350129, 39.85594715,\n",
       "       31.98056563, 54.86468953, 39.51306139, 50.02047758, 46.1907731 ,\n",
       "       48.07793501, 68.14781162, 57.26227508, 49.59440711, 49.5663162 ,\n",
       "       49.91584933, 57.75647016, 56.30291654, 47.38117359, 34.86536005,\n",
       "       50.4789553 , 53.73748952, 54.30748464, 63.30787048, 62.13828654,\n",
       "       47.83786289, 38.00002444, 42.38525826, 45.59346706, 45.46772303,\n",
       "       45.32705178, 50.46022151, 42.81127808, 50.69310486, 55.6449615 ,\n",
       "       46.72963988, 36.33245525, 38.66388571, 43.26811603, 41.18433475,\n",
       "       59.22524463, 60.63659485, 56.37725544, 55.16459326, 69.23370907,\n",
       "       44.56059654, 57.93385827, 42.63133733, 54.10245194, 50.16946826,\n",
       "       62.2277569 , 51.58892769, 53.69008131, 52.48195218, 48.39992479,\n",
       "       54.03753226, 43.2761102 , 46.65663991, 49.20396744, 49.85482386,\n",
       "       43.8617592 , 56.62436858, 40.42757986, 38.03068536, 49.54016254,\n",
       "       64.35052467, 58.12833139, 31.3337404 , 42.26622452, 32.84812105,\n",
       "       32.38772249, 47.61763923, 49.62116299, 33.9833819 , 48.56303136,\n",
       "       47.95566733, 41.92538233, 27.43025929, 32.59099611, 58.72061506,\n",
       "       46.46872369, 57.98673358, 59.18659579, 56.51165965, 53.28524483,\n",
       "       38.08000542, 50.5806076 , 55.04902423, 53.29367857, 54.21937235,\n",
       "       50.62986693, 48.99236669, 44.18970771, 39.28759941, 31.08667375,\n",
       "       33.55458131, 64.58084862, 47.92307189, 51.09010821, 53.13539749,\n",
       "       60.40839775, 53.67843279, 34.06041126, 35.79897434, 46.49585436,\n",
       "       54.00559092, 74.2726133 , 44.83611688, 48.08014407, 48.34675859,\n",
       "       47.79449153, 50.94024723, 64.05645751, 75.54963141, 59.35446346,\n",
       "       46.39223642, 65.77157254, 61.7685135 , 60.13175999, 38.83767747,\n",
       "       58.88781425, 59.15580969, 50.98717409, 34.78754235, 69.15342799,\n",
       "       45.19237333, 41.2352516 , 41.66556334, 42.86275898, 55.47824327,\n",
       "       49.42949349, 41.47411337, 64.98769434, 54.20040117, 52.20987836,\n",
       "       39.79733039, 48.26367007, 31.73089177, 55.34415136, 54.95522252,\n",
       "       44.77415952, 37.99295067, 59.67036775, 53.08659196, 61.47199694,\n",
       "       37.29896321, 43.79697086, 54.83320378, 37.00149587, 42.80278351,\n",
       "       51.27980357, 45.9286544 , 33.17480666, 63.28338257, 67.84625128,\n",
       "       35.72339609, 35.34363459, 57.45322577, 40.00279466, 51.3588236 ,\n",
       "       58.67398028, 32.01183125, 34.65136668, 45.09415494, 66.82108098,\n",
       "       51.18994797, 32.70859345, 40.69642919, 41.84041974, 45.92016109,\n",
       "       47.48618128, 49.8131956 , 49.13166305, 57.77035787, 61.4874845 ,\n",
       "       53.91082155, 49.60509786, 59.0473446 , 50.5349401 , 45.23181448,\n",
       "       60.83824535, 46.82665195, 61.3711697 , 47.1871111 , 57.25531267,\n",
       "       69.82335411, 46.02913015, 53.35272579, 35.64406725, 55.04167341,\n",
       "       51.93164702, 55.13696339, 49.62127354, 49.38809192, 30.12051546,\n",
       "       60.22812888, 29.02268726, 55.27665112, 57.8897462 , 64.41914721,\n",
       "       37.34707505, 34.84043574, 82.68992725, 39.74743296, 40.96904586,\n",
       "       47.68906656, 49.45027362, 52.52967332, 45.67798587, 38.54947524,\n",
       "       42.44784033, 61.86893095, 48.25541067, 56.5389176 , 39.16128168,\n",
       "       62.15269   , 49.98241056, 65.51307748, 43.25466499, 61.18323391,\n",
       "       50.50269047, 59.97036174, 33.58408692, 37.84986516, 32.31576449,\n",
       "       43.66113438, 50.9342618 , 39.55230303, 49.43714511, 71.96906087,\n",
       "       48.45272498, 69.60819758, 52.06750592, 61.01279312, 44.43801815,\n",
       "       39.99502452, 43.32020456, 54.24895861, 40.68277904, 64.77018706,\n",
       "       43.54116547, 50.95438978, 43.73837875, 52.32412893, 37.17063676,\n",
       "       42.10912816, 48.73662402, 37.78458355, 47.40610201, 35.6910148 ,\n",
       "       48.02709333, 41.43862669, 71.97978997, 54.28334971, 49.10848294,\n",
       "       68.47946346, 42.54948487, 47.03239972, 43.92057003, 45.60216106,\n",
       "       64.94016471, 54.34397025, 57.07045167, 39.75067462, 61.00225701,\n",
       "       25.66820244, 53.93788523, 64.68605917, 46.63385313, 65.17270988,\n",
       "       49.72041736, 41.26313793, 45.55917991, 54.64217098, 63.87335671,\n",
       "       69.30751504, 57.0521213 , 63.27206681, 49.34566931, 29.47674962,\n",
       "       47.68500818, 65.82571675, 58.77935919, 53.14538081, 43.22783211,\n",
       "       43.37392794, 65.42181189, 49.07092225, 64.80824433, 37.22119386,\n",
       "       44.21284935, 41.38273015, 59.2180487 , 52.02585163, 55.00913839,\n",
       "       68.17198208, 46.53633646, 59.28979854, 49.33789175, 50.87791557,\n",
       "       47.30833437, 41.30339201, 67.21756202, 53.75587589, 42.42408343,\n",
       "       38.51022681, 72.12310598, 47.71622935, 59.80507507, 62.03175506,\n",
       "       55.42557143, 30.7354986 , 61.8284859 , 48.93898606, 44.14474785,\n",
       "       44.4583728 , 52.64069689, 45.55068842, 29.08876451, 50.91898109,\n",
       "       34.57353638, 43.32151116, 66.50667955, 57.4537279 , 41.03295007,\n",
       "       54.48461245, 59.57545372, 46.80402257, 85.76210424, 51.10683163,\n",
       "       41.68188715, 52.32854089, 32.97558938, 39.96675773, 50.63012603,\n",
       "       42.10622719, 40.80490974, 40.21826471, 49.51196258, 56.98689693,\n",
       "       49.28462772, 30.57363211, 55.46234025, 40.26069819, 37.0648685 ,\n",
       "       69.90582691, 44.87587878, 60.8778317 , 35.56828196, 51.8020444 ,\n",
       "       46.67092335, 59.61854051, 51.10611871, 46.3662952 , 44.99936356,\n",
       "       50.41540601, 58.76583015, 39.50170622, 33.59559107, 68.14529633,\n",
       "       50.76331184, 26.36064482, 46.93705754, 29.01413797, 54.28675135,\n",
       "       67.49100246, 52.87457736, 44.84776868, 38.29795936, 53.83646954,\n",
       "       42.32778499, 59.63428215, 33.06912123, 42.83459794, 49.94881621,\n",
       "       48.20741555, 50.18928774, 55.29385082, 57.71427001, 55.5458586 ,\n",
       "       60.57470897, 44.04652218, 37.50335917, 65.43239818, 66.98154446,\n",
       "       40.77696758, 34.47579532, 63.4533381 , 43.68575341, 51.96916472,\n",
       "       47.85709721, 54.3991763 , 60.71418859, 52.25723108, 53.80669652,\n",
       "       63.59253329, 49.37400871, 50.07789784, 61.45092997, 35.07627551,\n",
       "       56.7195029 , 53.09395984, 42.48598963, 43.0247346 , 60.43834738,\n",
       "       51.55358282, 59.9069667 , 54.34749955, 45.15813977, 51.56080644,\n",
       "       59.72803823, 48.48853969, 61.72717276, 50.78019443, 55.34187643,\n",
       "       48.23401104, 68.97484074, 51.06648213, 55.00672382, 50.39794119,\n",
       "       54.90436137, 65.53399787, 37.52397415, 42.07112334, 59.78747027,\n",
       "       38.65188968, 52.35847132, 53.07881564, 36.86375398, 40.57686135,\n",
       "       69.82323822, 48.21118954, 59.0548588 , 56.27317524, 59.53069124,\n",
       "       44.35338227, 44.05530283, 44.40975673, 36.5644833 , 43.57572409,\n",
       "       49.76576573, 57.77873637, 57.79717876, 55.7407996 , 61.02022868,\n",
       "       52.32926145, 58.94633821, 53.9262216 , 35.9358041 , 50.88586166,\n",
       "       34.64445466, 46.61880246, 44.46011757, 49.8650278 , 44.20496819,\n",
       "       75.96613987, 53.73240273, 38.44595772, 37.53557611, 39.50222254,\n",
       "       50.92112715, 42.33067836, 48.34657733, 53.12823554, 42.70275129,\n",
       "       56.29874749, 63.44905   , 52.72730978, 51.43276096, 47.82904166,\n",
       "       43.39951097, 52.53221141, 46.2329104 , 37.27966589, 55.86465913,\n",
       "       59.30314299, 59.3083337 , 53.47706562, 49.11159024, 58.538728  ,\n",
       "       50.39197173, 19.69630812, 65.18417077, 43.89921543, 60.75941094,\n",
       "       52.87260464, 48.1390242 , 63.26690584, 63.39064517, 44.83992412,\n",
       "       57.28868503, 45.48036198, 49.0324037 , 64.7473736 , 45.57361991,\n",
       "       33.16842302, 48.14351709, 56.33886263, 70.73195587, 48.55720789,\n",
       "       38.4374864 , 46.97951996, 47.71263923, 22.07434929, 47.42779929,\n",
       "       71.82289789, 53.44278362, 24.30685264, 47.96410059, 45.36271763,\n",
       "       53.51121941, 51.65791484, 59.643932  , 61.442421  , 40.72235189,\n",
       "       54.04302453, 51.36272373, 39.28694122, 42.42889454, 48.45909725,\n",
       "       24.40037848, 61.62001095, 48.43460836, 36.23402919, 48.09089076,\n",
       "       70.01135622, 38.41543023, 40.53985075, 57.5812116 , 42.01791058,\n",
       "       44.00454313, 39.18321543, 39.75340841, 52.46095212, 40.47045232,\n",
       "       47.68423456, 70.23114608, 55.76947496, 52.70365542, 49.24021834,\n",
       "       62.66535206, 49.27052653, 53.37824502, 54.98584572, 49.57161189,\n",
       "       44.31000334, 59.18335522, 58.75681594, 60.72722666, 48.01355371,\n",
       "       54.69875279, 57.46781733, 69.85162941, 36.91342008, 75.71008286,\n",
       "       59.67469977, 68.84396022, 57.22579372, 29.75781152, 70.94448026,\n",
       "       49.80562189, 53.78673713, 47.19584437, 65.15856239, 61.33472687,\n",
       "       49.85490862, 51.44667317, 43.71794328, 61.9489311 , 39.28141914,\n",
       "       57.99514862, 63.93822747, 30.11065772, 72.54531637, 67.54997877,\n",
       "       42.67942756, 63.52474023, 71.24608974, 49.06959236, 34.98790507,\n",
       "       47.49784483, 62.82719664, 60.70741233, 42.72900589, 52.82748089,\n",
       "       55.03825282, 26.32007968, 42.42481358, 65.51154191, 40.34638591,\n",
       "       48.36051029, 48.6646092 , 37.84187085, 53.86109085, 37.88820387,\n",
       "       58.56187085, 48.75279597, 52.18141659, 58.14      , 25.14468709,\n",
       "       50.12304073, 52.34350709, 46.77452808, 57.48707958, 45.5724194 ,\n",
       "       44.3320729 , 58.06331086, 60.27365324, 36.57333288, 50.25316722,\n",
       "       61.81888665, 56.01682841, 55.21338078, 63.37272148, 50.95884932,\n",
       "       60.14303018, 49.754848  , 41.05849576, 62.24770592, 40.87081987,\n",
       "       61.57831681, 38.86422014, 64.62113894, 66.75426611, 38.83909895,\n",
       "       46.52178348, 36.22818799, 59.31624444, 42.35448296, 40.41470711,\n",
       "       65.24357095, 40.85346702, 69.10074721, 51.96320318, 49.08964307,\n",
       "       45.3476725 , 48.98995999, 60.57331329, 42.59753915, 44.73754618,\n",
       "       67.56986104, 56.93035726, 57.24812642, 49.8415259 , 49.97364071,\n",
       "       51.53741976, 62.16440379, 52.96752191, 48.97545869, 46.07623154,\n",
       "       58.67103618, 59.76587599, 35.2672755 , 52.60418009, 56.30420546,\n",
       "       62.73386674, 64.95015669, 47.63147856, 64.10076603, 65.52479775,\n",
       "       47.41261786, 46.827713  , 48.89416735, 60.96393363, 60.34326845,\n",
       "       46.69237728, 61.22961905, 63.25083016, 62.46433033, 47.55291726,\n",
       "       73.45739258, 26.63446084, 47.3001869 , 36.84795944, 40.99344356,\n",
       "       53.11520074, 39.01663087, 43.10039362, 43.32760095, 57.68178727,\n",
       "       63.42002194, 53.98544284, 36.53671049, 47.54967421, 39.07890845,\n",
       "       58.80667875, 48.92361319, 43.68957849, 54.04844418, 42.05958679,\n",
       "       53.39544949, 44.73282109, 41.89711285, 54.71533089, 46.63356071,\n",
       "       56.96428359, 49.2144284 , 24.36257729, 38.27756459, 35.36949136,\n",
       "       65.91315793, 43.51806497, 53.95515227, 38.18924267, 42.54710283,\n",
       "       45.13656007, 33.56419044, 51.47381356, 39.77189633, 56.43393837,\n",
       "       35.08743566, 54.25894863, 57.65908641, 42.23221017, 35.74635682,\n",
       "       28.80427192, 50.67399787, 68.59834616, 65.28780043, 42.04916322,\n",
       "       49.92633357, 56.29403127, 47.5611011 , 44.99685453, 64.34427572,\n",
       "       52.12739517, 44.2560887 , 54.74917998, 38.50514341, 44.15704828,\n",
       "       43.4426958 , 47.8906746 , 54.20709988, 49.00788469, 42.90454622,\n",
       "       25.20608458, 38.14679467, 36.09618625, 39.55554563, 49.49890314,\n",
       "       45.2444785 , 52.31290214, 30.049367  , 61.10865038, 40.00426176])"
      ]
     },
     "execution_count": 14,
     "metadata": {},
     "output_type": "execute_result"
    }
   ],
   "execution_count": 14
  },
  {
   "metadata": {
    "ExecuteTime": {
     "end_time": "2025-10-20T07:39:18.055380Z",
     "start_time": "2025-10-20T07:39:17.830920Z"
    }
   },
   "cell_type": "code",
   "source": "plt.hist(samples1, bins=100)",
   "id": "4771f5b35a0e3c0d",
   "outputs": [
    {
     "data": {
      "text/plain": [
       "(array([ 1.,  0.,  0.,  1.,  0.,  0.,  2.,  2.,  3.,  1.,  3.,  2.,  0.,\n",
       "         1.,  5.,  4.,  4.,  3.,  4.,  6.,  9.,  6.,  8.,  7., 10., 11.,\n",
       "        13., 17., 14., 13., 13., 17., 17., 15., 26., 18., 21., 20., 22.,\n",
       "        21., 21., 19., 37., 28., 25., 39., 21., 26., 21., 26., 21., 27.,\n",
       "        21., 28., 19., 18., 17., 20., 16., 24., 18., 12., 14., 18.,  7.,\n",
       "        10., 15.,  7., 16., 10.,  2.,  7.,  5.,  4.,  7.,  6.,  4.,  5.,\n",
       "         3.,  7.,  0.,  1.,  1.,  0.,  3.,  2.,  0.,  0.,  0.,  0.,  0.,\n",
       "         0.,  0.,  0.,  0.,  1.,  0.,  0.,  0.,  1.]),\n",
       " array([19.69630812, 20.35696608, 21.01762405, 21.67828201, 22.33893997,\n",
       "        22.99959793, 23.66025589, 24.32091385, 24.98157181, 25.64222977,\n",
       "        26.30288773, 26.9635457 , 27.62420366, 28.28486162, 28.94551958,\n",
       "        29.60617754, 30.2668355 , 30.92749346, 31.58815142, 32.24880939,\n",
       "        32.90946735, 33.57012531, 34.23078327, 34.89144123, 35.55209919,\n",
       "        36.21275715, 36.87341511, 37.53407308, 38.19473104, 38.855389  ,\n",
       "        39.51604696, 40.17670492, 40.83736288, 41.49802084, 42.1586788 ,\n",
       "        42.81933676, 43.47999473, 44.14065269, 44.80131065, 45.46196861,\n",
       "        46.12262657, 46.78328453, 47.44394249, 48.10460045, 48.76525842,\n",
       "        49.42591638, 50.08657434, 50.7472323 , 51.40789026, 52.06854822,\n",
       "        52.72920618, 53.38986414, 54.05052211, 54.71118007, 55.37183803,\n",
       "        56.03249599, 56.69315395, 57.35381191, 58.01446987, 58.67512783,\n",
       "        59.33578579, 59.99644376, 60.65710172, 61.31775968, 61.97841764,\n",
       "        62.6390756 , 63.29973356, 63.96039152, 64.62104948, 65.28170745,\n",
       "        65.94236541, 66.60302337, 67.26368133, 67.92433929, 68.58499725,\n",
       "        69.24565521, 69.90631317, 70.56697114, 71.2276291 , 71.88828706,\n",
       "        72.54894502, 73.20960298, 73.87026094, 74.5309189 , 75.19157686,\n",
       "        75.85223482, 76.51289279, 77.17355075, 77.83420871, 78.49486667,\n",
       "        79.15552463, 79.81618259, 80.47684055, 81.13749851, 81.79815648,\n",
       "        82.45881444, 83.1194724 , 83.78013036, 84.44078832, 85.10144628,\n",
       "        85.76210424]),\n",
       " <BarContainer object of 100 artists>)"
      ]
     },
     "execution_count": 15,
     "metadata": {},
     "output_type": "execute_result"
    },
    {
     "data": {
      "text/plain": [
       "<Figure size 640x480 with 1 Axes>"
      ],
      "image/png": "[encoded data removed]"
     },
     "metadata": {},
     "output_type": "display_data",
     "jetTransient": {
      "display_id": null
     }
    }
   ],
   "execution_count": 15
  },
  {
   "metadata": {
    "ExecuteTime": {
     "end_time": "2025-10-20T07:39:18.109682Z",
     "start_time": "2025-10-20T07:39:18.099812Z"
    }
   },
   "cell_type": "code",
   "source": [
    "samples3 = np.random.binomial(10, 0.5, 1000)\n",
    "samples3"
   ],
   "id": "30d0b2e2a8ead283",
   "outputs": [
    {
     "data": {
      "text/plain": [
       "array([ 5,  8,  6,  3,  6,  5,  6,  4,  3,  5,  6,  1,  4,  6,  7,  6,  5,\n",
       "        6,  6,  4,  7,  5,  5,  6,  3,  3,  4,  2,  3,  4,  5,  6,  5,  4,\n",
       "        2,  6,  3,  5,  3,  5,  7,  4,  8,  6,  8,  6,  4,  6,  6,  9,  8,\n",
       "        6,  4,  4,  4,  7,  5,  4,  6,  3,  6,  8,  5,  6,  6,  4,  6,  4,\n",
       "        5,  6,  4,  3,  5,  3,  4,  6,  7,  6,  6,  1,  7,  6,  5,  1,  5,\n",
       "        6,  3,  4,  4,  3,  3,  7,  4,  6,  4,  4,  3,  6,  7,  3,  6,  6,\n",
       "        7,  9,  5,  8,  5,  6,  4,  5,  7,  6,  3,  6,  6,  7,  2,  7,  5,\n",
       "        7,  6,  8,  7,  3,  4,  3,  7,  4,  6,  2,  6,  5,  5,  6,  4,  7,\n",
       "        5,  9,  4,  6,  7,  3,  5,  5,  3,  4,  4,  4,  7,  6,  7,  5,  7,\n",
       "        5,  3,  2,  7,  5,  3,  5,  2,  5,  5,  3,  6,  8,  5,  4,  5,  5,\n",
       "        2,  5,  7,  7,  4,  5,  6,  4,  4,  3,  6,  6,  6,  5,  3,  4,  5,\n",
       "        4,  6,  3,  5,  3,  5,  3,  6,  6,  4,  4,  4,  4,  7,  6,  6,  4,\n",
       "        6,  4,  4,  7,  4,  5,  6,  7,  3,  6,  7,  4,  4,  3,  3,  2,  3,\n",
       "        7,  6,  5,  5,  5,  4,  6,  7,  6,  4,  5,  4,  7,  4,  4,  6,  5,\n",
       "        4,  7,  5,  8,  4,  5,  2,  8,  5,  2,  5,  8,  3,  4,  5,  6,  8,\n",
       "        6,  5,  5,  6,  5,  4,  6,  5,  6,  6,  8,  3,  5,  7,  3,  6,  6,\n",
       "        6,  5,  4,  4,  7,  4,  4,  5,  3,  5,  5,  5,  2,  4,  2,  6,  8,\n",
       "        3,  5,  5,  5,  5,  5,  9,  4,  3,  3,  6,  7,  5,  1,  7,  3,  3,\n",
       "        4,  6,  3,  4,  4,  7,  4,  3,  7,  5,  5,  8,  6,  4,  6,  2,  5,\n",
       "        5,  4,  5,  5,  3,  8,  5,  6,  1,  4,  3,  9,  6,  7,  4,  5,  7,\n",
       "        8,  7,  5,  4,  6,  5,  4,  5,  5,  5,  4,  4,  3,  5,  5,  6,  5,\n",
       "        4,  5,  6,  5,  2,  6,  6,  5,  4,  4,  7,  9,  8,  7,  5,  6,  5,\n",
       "        5,  7,  4,  4,  7,  7,  5,  5,  2,  5,  4,  6,  4,  5,  7,  7,  7,\n",
       "        6,  8,  5,  7,  7,  6,  3,  2,  5,  4,  4,  4,  4,  5,  1,  8,  5,\n",
       "        3,  5,  4,  5,  2,  6,  5,  7,  3,  7,  4,  7,  2,  5,  5,  8,  6,\n",
       "        5,  7,  4,  5,  3,  6,  8,  4,  5,  6,  4,  6,  6,  5,  5,  6,  3,\n",
       "        6,  5,  6,  6,  4,  5,  4,  5,  7,  7,  5,  3,  5,  3,  5,  4,  6,\n",
       "        4,  4,  5,  2,  4,  5,  5,  4,  5,  5,  5,  4,  3,  3,  2,  4,  2,\n",
       "        6,  4,  3,  2,  5,  5,  6,  5,  6,  3,  4,  3,  4,  5,  4,  5,  5,\n",
       "        3,  4,  6,  6,  5,  5,  4,  3,  6,  3,  3,  3,  4,  8,  4,  6,  5,\n",
       "        5,  5,  8,  6,  6,  5,  8,  5,  5,  7,  4,  4,  4,  7,  6,  5,  4,\n",
       "        6,  3,  6,  8,  4,  3,  6,  2,  8,  5,  6,  4,  8,  4,  6,  5,  4,\n",
       "        6,  4,  7,  4,  3,  5,  6,  4,  6,  4,  6,  6,  4,  6,  6,  6,  3,\n",
       "        5,  5,  4,  4,  6,  5,  5,  5,  3,  5,  1,  1,  6,  5,  8,  4,  8,\n",
       "        3,  6,  6,  4,  3,  8,  5,  5,  8,  6,  6,  3,  5,  5,  5,  6,  5,\n",
       "        6,  5,  4,  5,  6,  3,  5,  6,  5,  5,  4,  6,  6,  5,  7,  4,  4,\n",
       "        6,  4,  4,  6,  6,  6,  8,  5,  5,  6,  5,  6,  6,  4,  6,  4,  5,\n",
       "        4,  6,  8,  4,  5,  5,  3,  5,  7,  6,  5,  3,  5,  5,  4,  2,  5,\n",
       "        7,  5,  9,  6,  5,  6,  2,  9,  5,  7,  4,  3,  7,  4,  3,  7,  5,\n",
       "        6,  5,  4,  5,  5,  4,  6,  7,  6,  2,  6,  6,  5,  5,  6,  5,  4,\n",
       "        6,  3,  7,  3,  4,  6,  4,  4,  6,  4,  5,  5,  4, 10,  4,  5,  3,\n",
       "        7,  5,  8,  5,  4,  3,  4,  5,  6,  5,  4,  5,  2,  4,  3,  9,  3,\n",
       "        4,  5,  4,  6,  7,  7,  8,  5,  5,  3,  7,  6,  6,  5,  2,  5,  6,\n",
       "        8,  7,  4,  5,  5,  6,  4,  8,  5,  3,  6,  6,  6,  6,  2,  6,  5,\n",
       "        5,  8,  5,  4,  4,  7,  4,  5,  2,  6,  5,  3,  6,  7,  7,  6,  5,\n",
       "        5,  4,  6,  6,  5,  6,  4,  5,  6,  5,  5,  5,  7,  8,  3,  3,  3,\n",
       "        4,  4,  4,  6,  3,  2,  6,  6,  6,  8,  5,  6,  6,  7,  7,  6,  3,\n",
       "        6,  5,  4,  3,  3,  6,  7,  5,  4,  4,  3,  6,  3,  7,  4,  2,  7,\n",
       "        5,  3,  6,  6,  6,  4,  6,  8,  6,  5,  5,  8,  4,  5,  5,  8,  4,\n",
       "        7,  3,  4,  1,  4,  5,  6,  3,  6,  4,  6,  6,  4,  7,  7,  5,  7,\n",
       "        8,  3,  4,  5,  8,  2,  5,  6,  7,  5,  4,  5,  3,  5,  4,  5,  6,\n",
       "        4,  7,  3,  5,  6,  6,  7,  4,  6,  6,  7,  5,  5,  5,  5,  5,  7,\n",
       "        5,  6,  4,  4,  4,  4,  5,  5,  3,  7,  9,  4,  1,  6,  6,  6,  4,\n",
       "        7,  3,  7,  4,  5,  4,  3,  7,  6,  6,  7,  7,  4,  6,  5,  4,  6,\n",
       "        6,  3,  4,  3,  4,  8,  2,  6,  5,  6,  6,  3,  8,  6,  4,  7,  4,\n",
       "        8,  3,  5,  5,  6,  2,  6,  2,  4,  5,  7,  6,  7,  8,  5,  6,  4,\n",
       "        4,  5,  5,  7,  5,  4,  3,  5,  4,  6,  8,  5,  2,  7,  4,  3,  7,\n",
       "        5,  5,  4,  4,  5,  4,  3,  6,  6,  2,  3,  6,  5,  6,  5,  6,  4,\n",
       "        6,  9,  4,  2,  7,  7,  7,  6,  3,  4,  4,  5,  3,  6],\n",
       "      dtype=int32)"
      ]
     },
     "execution_count": 16,
     "metadata": {},
     "output_type": "execute_result"
    }
   ],
   "execution_count": 16
  },
  {
   "metadata": {
    "ExecuteTime": {
     "end_time": "2025-10-20T08:01:11.632101Z",
     "start_time": "2025-10-20T08:01:11.622107Z"
    }
   },
   "cell_type": "code",
   "source": [
    "x= [1,2,4,56,77,7,5576,8,7545,8586]\n",
    "y = np.array(x)\n",
    "print(y[-3])"
   ],
   "id": "2ddf81d78b0d02d1",
   "outputs": [
    {
     "name": "stdout",
     "output_type": "stream",
     "text": [
      "8\n"
     ]
    }
   ],
   "execution_count": 36
  },
  {
   "metadata": {
    "ExecuteTime": {
     "end_time": "2025-10-20T08:02:43.403741Z",
     "start_time": "2025-10-20T08:02:43.399051Z"
    }
   },
   "cell_type": "code",
   "source": [
    "x = np.random.randint(20, 2000, size=(3, 4))\n",
    "print(x)"
   ],
   "id": "2cc0749087dcb011",
   "outputs": [
    {
     "name": "stdout",
     "output_type": "stream",
     "text": [
      "[[1293 1638 1904  586]\n",
      " [1709  428  106 1792]\n",
      " [ 508 1389 1117  242]]\n"
     ]
    }
   ],
   "execution_count": 39
  },
  {
   "metadata": {
    "ExecuteTime": {
     "end_time": "2025-10-20T08:04:10.275200Z",
     "start_time": "2025-10-20T08:04:10.271033Z"
    }
   },
   "cell_type": "code",
   "source": "print(x[-2, -2])",
   "id": "1d0df4a16a617c0f",
   "outputs": [
    {
     "name": "stdout",
     "output_type": "stream",
     "text": [
      "106\n"
     ]
    }
   ],
   "execution_count": 45
  },
  {
   "metadata": {
    "ExecuteTime": {
     "end_time": "2025-10-20T08:08:21.177576Z",
     "start_time": "2025-10-20T08:08:21.171243Z"
    }
   },
   "cell_type": "code",
   "source": [
    "x1 = np.random.randint(1, 10, size=6).reshape(2, 3)\n",
    "print(x1)"
   ],
   "id": "2b5e446c3453f27a",
   "outputs": [
    {
     "name": "stdout",
     "output_type": "stream",
     "text": [
      "[[5 4 6]\n",
      " [4 4 8]]\n"
     ]
    }
   ],
   "execution_count": 49
  },
  {
   "metadata": {
    "ExecuteTime": {
     "end_time": "2025-10-20T09:41:44.396539Z",
     "start_time": "2025-10-20T09:41:44.389685Z"
    }
   },
   "cell_type": "code",
   "source": [
    "x2 = np.random.randint(1, 100, size=(5, 3))\n",
    "print(x2)"
   ],
   "id": "60a78e8056f2d06c",
   "outputs": [
    {
     "name": "stdout",
     "output_type": "stream",
     "text": [
      "[[24 97 46]\n",
      " [38 87  4]\n",
      " [66 90 81]\n",
      " [34 29 16]\n",
      " [59 30 94]]\n"
     ]
    }
   ],
   "execution_count": 75
  },
  {
   "metadata": {
    "ExecuteTime": {
     "end_time": "2025-10-20T09:41:52.473095Z",
     "start_time": "2025-10-20T09:41:52.465462Z"
    }
   },
   "cell_type": "code",
   "source": "print(x2[3, 1])",
   "id": "e2adcde094ce2380",
   "outputs": [
    {
     "name": "stdout",
     "output_type": "stream",
     "text": [
      "29\n"
     ]
    }
   ],
   "execution_count": 76
  },
  {
   "metadata": {
    "ExecuteTime": {
     "end_time": "2025-10-20T08:53:47.790574Z",
     "start_time": "2025-10-20T08:53:47.781616Z"
    }
   },
   "cell_type": "code",
   "source": [
    "r1 = [1,2,3,4,5,6]\n",
    "r = np.array(r1)\n",
    "print(r.shape)"
   ],
   "id": "1ccdb37b74a4db58",
   "outputs": [
    {
     "name": "stdout",
     "output_type": "stream",
     "text": [
      "(6,)\n"
     ]
    }
   ],
   "execution_count": 57
  },
  {
   "metadata": {
    "ExecuteTime": {
     "end_time": "2025-10-20T09:39:14.949591Z",
     "start_time": "2025-10-20T09:39:14.938499Z"
    }
   },
   "cell_type": "code",
   "source": "print(r[np.newaxis,:])",
   "id": "b3d1e4c96dea6587",
   "outputs": [
    {
     "name": "stdout",
     "output_type": "stream",
     "text": [
      "[[1 2 3 4 5 6]]\n"
     ]
    }
   ],
   "execution_count": 68
  },
  {
   "metadata": {
    "ExecuteTime": {
     "end_time": "2025-10-20T08:56:42.386850Z",
     "start_time": "2025-10-20T08:56:42.381488Z"
    }
   },
   "cell_type": "code",
   "source": "print(r[:, np.newaxis])",
   "id": "4f07cc1cba4e4407",
   "outputs": [
    {
     "name": "stdout",
     "output_type": "stream",
     "text": [
      "[[1]\n",
      " [2]\n",
      " [3]\n",
      " [4]\n",
      " [5]\n",
      " [6]]\n"
     ]
    }
   ],
   "execution_count": 64
  },
  {
   "metadata": {
    "ExecuteTime": {
     "end_time": "2025-10-20T09:47:57.444179Z",
     "start_time": "2025-10-20T09:47:57.437826Z"
    }
   },
   "cell_type": "code",
   "source": [
    "z = np.random.randint(1,29, size=(4,5))\n",
    "print(z)"
   ],
   "id": "11122a6f215bdd1d",
   "outputs": [
    {
     "name": "stdout",
     "output_type": "stream",
     "text": [
      "[[ 3  6  1 15 27]\n",
      " [14 26  7 16  6]\n",
      " [27 12 17  6 27]\n",
      " [21 24  5  6 12]]\n"
     ]
    }
   ],
   "execution_count": 78
  },
  {
   "metadata": {
    "ExecuteTime": {
     "end_time": "2025-10-20T09:50:49.273712Z",
     "start_time": "2025-10-20T09:50:49.268286Z"
    }
   },
   "cell_type": "code",
   "source": "print(z[::-1, ::-1])",
   "id": "dfa546cb4a586238",
   "outputs": [
    {
     "name": "stdout",
     "output_type": "stream",
     "text": [
      "[[12  6  5 24 21]\n",
      " [27  6 17 12 27]\n",
      " [ 6 16  7 26 14]\n",
      " [27 15  1  6  3]]\n"
     ]
    }
   ],
   "execution_count": 81
  },
  {
   "metadata": {},
   "cell_type": "code",
   "outputs": [],
   "execution_count": null,
   "source": "",
   "id": "83a089d48c5565f3"
  }
 ],
 "metadata": {
  "kernelspec": {
   "display_name": "Python 3",
   "language": "python",
   "name": "python3"
  },
  "language_info": {
   "codemirror_mode": {
    "name": "ipython",
    "version": 2
   },
   "file_extension": ".py",
   "mimetype": "text/x-python",
   "name": "python",
   "nbconvert_exporter": "python",
   "pygments_lexer": "ipython2",
   "version": "2.7.6"
  }
 },
 "nbformat": 4,
 "nbformat_minor": 5
}
